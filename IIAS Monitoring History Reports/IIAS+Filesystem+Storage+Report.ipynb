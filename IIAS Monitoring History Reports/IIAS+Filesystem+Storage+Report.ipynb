{
 "cells": [
  {
   "cell_type": "markdown",
   "metadata": {
    "collapsed": true,
    "deletable": true,
    "editable": true
   },
   "source": [
    "# IIAS Filesystem Storage Report\n",
    "Query the IIAS database to summarize network traffic for your IIA System using the database collected and stored in the IIAS Database. The historical records for the IIAS System are stored in the IBM_SAILFISH Schema.\n",
    "\n",
    "## Db2 Extensions\n",
    "This tutorial relies on a Jupyter notebook extensions, commonly refer to as a \"magic\" commands. The beginning of all of the notebooks begin with the following command which will load the extension and allow the remainder of the notebook to use the %sql magic command.\n",
    "<pre>\n",
    "&#37;run db2.ipynb\n",
    "</pre>\n",
    "The cell below will load the Db2 extension. Note that it will take a few seconds for the extension to load, so you should generally wait until the \"Db2 Extensions Loaded\" message is displayed in your notebook. You can find out more about the Db2 Extensions at https://github.com/DB2-Samples/db2jupyter"
   ]
  },
  {
   "cell_type": "code",
   "execution_count": 1,
   "metadata": {
    "collapsed": false,
    "deletable": true,
    "editable": true
   },
   "outputs": [
    {
     "name": "stdout",
     "output_type": "stream",
     "text": [
      "Pixiedust database opened successfully\n"
     ]
    },
    {
     "data": {
      "text/html": [
       "\n",
       "        <div style=\"margin:10px\">\n",
       "            <a href=\"https://github.com/ibm-watson-data-lab/pixiedust\" target=\"_new\">\n",
       "                <img src=\"https://github.com/ibm-watson-data-lab/pixiedust/raw/master/docs/_static/pd_icon32.png\" style=\"float:left;margin-right:10px\"/>\n",
       "            </a>\n",
       "            <span>Pixiedust version 1.1.10</span>\n",
       "        </div>\n",
       "        "
      ],
      "text/plain": [
       "<IPython.core.display.HTML object>"
      ]
     },
     "metadata": {},
     "output_type": "display_data"
    },
    {
     "name": "stdout",
     "output_type": "stream",
     "text": [
      "DB2 Extensions Loaded.\n"
     ]
    },
    {
     "data": {
      "text/html": [
       "<style>\n",
       "  table {margin-left: 0 !important; text-align: left;}\n",
       "</style>"
      ],
      "text/plain": [
       "<IPython.core.display.HTML object>"
      ]
     },
     "metadata": {},
     "output_type": "display_data"
    }
   ],
   "source": [
    "%run db2.ipynb"
   ]
  },
  {
   "cell_type": "code",
   "execution_count": 2,
   "metadata": {
    "collapsed": false,
    "deletable": true,
    "editable": true
   },
   "outputs": [],
   "source": [
    "# load pandas for dataframe support and numpy for statistical manipulation and matplot for graphing\n",
    "import pandas as pd\n",
    "import numpy as np\n",
    "import matplotlib.pyplot as plt"
   ]
  },
  {
   "cell_type": "markdown",
   "metadata": {
    "deletable": true,
    "editable": true
   },
   "source": [
    "# Connections to Db2\n",
    "\n",
    "Before any SQL commands can be issued, a connection needs to be made to the Db2 database that you will be using. The connection can be done manually (through the use of the CONNECT command), or automatically when the first %sql command is issued.\n",
    "\n",
    "The Db2 magic command tracks whether or not a connection has occured in the past and saves this information between notebooks and sessions. When you start up a notebook and issue a command, the program will reconnect to the database using your credentials from the last session. In the event that you have not connected before, the system will prompt you for all the information it needs to connect. This information includes:\n",
    "\n",
    "- Database name (SAMPLE) \n",
    "- Hostname - localhost (enter an IP address if you need to connect to a remote server) \n",
    "- PORT - 50000 (this is the default but it could be different) \n",
    "- Userid - DB2INST1 \n",
    "- Password - No password is provided so you have to enter a value \n",
    "- Maximum Rows - 10 lines of output are displayed when a result set is returned \n",
    "\n",
    "There will be default values presented in the panels that you can accept, or enter your own values. All of the information will be stored in the directory that the notebooks are stored on. Once you have entered the information, the system will attempt to connect to the database for you and then you can run all of the SQL scripts. More details on the CONNECT syntax will be found in a section below.\n",
    "\n",
    "The next statement will force a CONNECT to occur with the default values. If you have not connected before, it will prompt you for the information."
   ]
  },
  {
   "cell_type": "code",
   "execution_count": null,
   "metadata": {
    "collapsed": false,
    "deletable": true,
    "editable": true
   },
   "outputs": [],
   "source": [
    "%sql connect reset"
   ]
  },
  {
   "cell_type": "code",
   "execution_count": 5,
   "metadata": {
    "collapsed": false,
    "deletable": true,
    "editable": true
   },
   "outputs": [
    {
     "name": "stdout",
     "output_type": "stream",
     "text": [
      "Password [password]: ········\n",
      "Connection successful.\n"
     ]
    }
   ],
   "source": [
    "# create a persistent connection to the DSM Historical Repository Database\n",
    "%sql connect to BLUDB user bluadmin using ? host sail62-t14.swg.usma.ibm.com port 50000"
   ]
  },
  {
   "cell_type": "markdown",
   "metadata": {
    "deletable": true,
    "editable": true
   },
   "source": [
    "## Retrieving historical system data from IIAS"
   ]
  },
  {
   "cell_type": "markdown",
   "metadata": {
    "deletable": true,
    "editable": true
   },
   "source": [
    "The [ADMINTABINFO administrative view](https://www.ibm.com/support/knowledgecenter/en/SSEPGG_11.1.0/com.ibm.db2.luw.sql.rtn.doc/doc/r0052897.html)\n",
    "returns size and state information for tables, materialized query tables (MQT) and hierarchy tables only. These table types are reported as T for table, S for materialized query tables and H for hierarchy tables in the SYSCAT.TABLES catalog view. The information is returned at both the data partition level and the database partition level for a table.\n",
    "\n",
    "The query below shows you all the System Level monitoring tables available."
   ]
  },
  {
   "cell_type": "code",
   "execution_count": 6,
   "metadata": {
    "collapsed": false,
    "deletable": true,
    "editable": true
   },
   "outputs": [
    {
     "data": {
      "text/html": [
       "<div>\n",
       "<style scoped>\n",
       "    .dataframe tbody tr th:only-of-type {\n",
       "        vertical-align: middle;\n",
       "    }\n",
       "\n",
       "    .dataframe tbody tr th {\n",
       "        vertical-align: top;\n",
       "    }\n",
       "\n",
       "    .dataframe thead th {\n",
       "        text-align: right;\n",
       "    }\n",
       "</style>\n",
       "<table border=\"1\" class=\"dataframe\">\n",
       "  <thead>\n",
       "    <tr style=\"text-align: right;\">\n",
       "      <th></th>\n",
       "      <th>SYSTEM_MONITORING_TABLES</th>\n",
       "    </tr>\n",
       "  </thead>\n",
       "  <tbody>\n",
       "    <tr>\n",
       "      <th>0</th>\n",
       "      <td>ALERTS_MAPPING</td>\n",
       "    </tr>\n",
       "    <tr>\n",
       "      <th>1</th>\n",
       "      <td>MONITORING_CPU</td>\n",
       "    </tr>\n",
       "    <tr>\n",
       "      <th>2</th>\n",
       "      <td>MONITORING_IO_READ</td>\n",
       "    </tr>\n",
       "    <tr>\n",
       "      <th>3</th>\n",
       "      <td>MONITORING_IO_WRITE</td>\n",
       "    </tr>\n",
       "    <tr>\n",
       "      <th>4</th>\n",
       "      <td>MONITORING_MEMORY</td>\n",
       "    </tr>\n",
       "    <tr>\n",
       "      <th>5</th>\n",
       "      <td>MONITORING_NETWORK_RX</td>\n",
       "    </tr>\n",
       "    <tr>\n",
       "      <th>6</th>\n",
       "      <td>MONITORING_NETWORK_TX</td>\n",
       "    </tr>\n",
       "    <tr>\n",
       "      <th>7</th>\n",
       "      <td>MONITORING_STORAGE_FILESYSTEMS</td>\n",
       "    </tr>\n",
       "    <tr>\n",
       "      <th>8</th>\n",
       "      <td>MONITORING_STORAGE_NODELEVEL</td>\n",
       "    </tr>\n",
       "    <tr>\n",
       "      <th>9</th>\n",
       "      <td>MONITORING_STORAGE_NODES</td>\n",
       "    </tr>\n",
       "    <tr>\n",
       "      <th>10</th>\n",
       "      <td>MONITORING_SWAP</td>\n",
       "    </tr>\n",
       "    <tr>\n",
       "      <th>11</th>\n",
       "      <td>SAILFISH_VERSION</td>\n",
       "    </tr>\n",
       "  </tbody>\n",
       "</table>\n",
       "</div>"
      ],
      "text/plain": [
       "          SYSTEM_MONITORING_TABLES\n",
       "0                   ALERTS_MAPPING\n",
       "1                   MONITORING_CPU\n",
       "2               MONITORING_IO_READ\n",
       "3              MONITORING_IO_WRITE\n",
       "4                MONITORING_MEMORY\n",
       "5            MONITORING_NETWORK_RX\n",
       "6            MONITORING_NETWORK_TX\n",
       "7   MONITORING_STORAGE_FILESYSTEMS\n",
       "8     MONITORING_STORAGE_NODELEVEL\n",
       "9         MONITORING_STORAGE_NODES\n",
       "10                 MONITORING_SWAP\n",
       "11                SAILFISH_VERSION"
      ]
     },
     "execution_count": 6,
     "metadata": {},
     "output_type": "execute_result"
    }
   ],
   "source": [
    "%sql -a SELECT TABNAME AS SYSTEM_MONITORING_TABLES FROM SYSCAT.TABLES WHERE TABSCHEMA = 'IBM_SAILFISH' ORDER BY TABNAME"
   ]
  },
  {
   "cell_type": "markdown",
   "metadata": {
    "deletable": true,
    "editable": true
   },
   "source": [
    "## Retrieving Data and Converting Time\n",
    "The current timestamps of the collected data is stored in UNIX EPOCH format, seconds since January 1st, 1970. To convert to more useful values the statement below retrieves the database from the warehouse database and constructs several columns that can be used to group and classify data later. The results are automatically streamed into a new Data Frame called NetworkTX."
   ]
  },
  {
   "cell_type": "code",
   "execution_count": 12,
   "metadata": {
    "collapsed": false,
    "deletable": true,
    "editable": true
   },
   "outputs": [
    {
     "data": {
      "text/html": [
       "<div>\n",
       "<style scoped>\n",
       "    .dataframe tbody tr th:only-of-type {\n",
       "        vertical-align: middle;\n",
       "    }\n",
       "\n",
       "    .dataframe tbody tr th {\n",
       "        vertical-align: top;\n",
       "    }\n",
       "\n",
       "    .dataframe thead th {\n",
       "        text-align: right;\n",
       "    }\n",
       "</style>\n",
       "<table border=\"1\" class=\"dataframe\">\n",
       "  <thead>\n",
       "    <tr style=\"text-align: right;\">\n",
       "      <th></th>\n",
       "      <th>NAME</th>\n",
       "      <th>TIME_COLLECTED</th>\n",
       "      <th>HOUR_COLLECTED</th>\n",
       "      <th>DATE_COLLECTED</th>\n",
       "      <th>TIMESTAMP_COLLECTED</th>\n",
       "      <th>EPOCH_TIME</th>\n",
       "      <th>USED_GB</th>\n",
       "      <th>CAPACITY_GB</th>\n",
       "    </tr>\n",
       "  </thead>\n",
       "  <tbody>\n",
       "    <tr>\n",
       "      <th>0</th>\n",
       "      <td>head                                          ...</td>\n",
       "      <td>19:31:55</td>\n",
       "      <td>19</td>\n",
       "      <td>2018-05-29</td>\n",
       "      <td>2018-05-29 19:31:55</td>\n",
       "      <td>1527622315784</td>\n",
       "      <td>95.60</td>\n",
       "      <td>3072.00</td>\n",
       "    </tr>\n",
       "    <tr>\n",
       "      <th>1</th>\n",
       "      <td>data                                          ...</td>\n",
       "      <td>19:31:55</td>\n",
       "      <td>19</td>\n",
       "      <td>2018-05-29</td>\n",
       "      <td>2018-05-29 19:31:55</td>\n",
       "      <td>1527622315784</td>\n",
       "      <td>13.49</td>\n",
       "      <td>115711.95</td>\n",
       "    </tr>\n",
       "    <tr>\n",
       "      <th>2</th>\n",
       "      <td>scratch                                       ...</td>\n",
       "      <td>19:31:55</td>\n",
       "      <td>19</td>\n",
       "      <td>2018-05-29</td>\n",
       "      <td>2018-05-29 19:31:55</td>\n",
       "      <td>1527622315784</td>\n",
       "      <td>1867.25</td>\n",
       "      <td>15360.00</td>\n",
       "    </tr>\n",
       "    <tr>\n",
       "      <th>3</th>\n",
       "      <td>local                                         ...</td>\n",
       "      <td>19:31:55</td>\n",
       "      <td>19</td>\n",
       "      <td>2018-05-29</td>\n",
       "      <td>2018-05-29 19:31:55</td>\n",
       "      <td>1527622315784</td>\n",
       "      <td>2294.17</td>\n",
       "      <td>115711.95</td>\n",
       "    </tr>\n",
       "    <tr>\n",
       "      <th>4</th>\n",
       "      <td>head                                          ...</td>\n",
       "      <td>19:32:56</td>\n",
       "      <td>19</td>\n",
       "      <td>2018-05-29</td>\n",
       "      <td>2018-05-29 19:32:56</td>\n",
       "      <td>1527622376317</td>\n",
       "      <td>95.60</td>\n",
       "      <td>3072.00</td>\n",
       "    </tr>\n",
       "  </tbody>\n",
       "</table>\n",
       "</div>"
      ],
      "text/plain": [
       "                                                NAME TIME_COLLECTED  \\\n",
       "0  head                                          ...       19:31:55   \n",
       "1  data                                          ...       19:31:55   \n",
       "2  scratch                                       ...       19:31:55   \n",
       "3  local                                         ...       19:31:55   \n",
       "4  head                                          ...       19:32:56   \n",
       "\n",
       "   HOUR_COLLECTED DATE_COLLECTED TIMESTAMP_COLLECTED     EPOCH_TIME  USED_GB  \\\n",
       "0              19     2018-05-29 2018-05-29 19:31:55  1527622315784    95.60   \n",
       "1              19     2018-05-29 2018-05-29 19:31:55  1527622315784    13.49   \n",
       "2              19     2018-05-29 2018-05-29 19:31:55  1527622315784  1867.25   \n",
       "3              19     2018-05-29 2018-05-29 19:31:55  1527622315784  2294.17   \n",
       "4              19     2018-05-29 2018-05-29 19:32:56  1527622376317    95.60   \n",
       "\n",
       "   CAPACITY_GB  \n",
       "0      3072.00  \n",
       "1    115711.95  \n",
       "2     15360.00  \n",
       "3    115711.95  \n",
       "4      3072.00  "
      ]
     },
     "execution_count": 12,
     "metadata": {},
     "output_type": "execute_result"
    }
   ],
   "source": [
    "FileSystemStorage = %sql \\\n",
    "SELECT \\\n",
    "    \"NAME\", \\\n",
    "    TIME(TIMESTAMP('1970-01-01','00.00.00') + (TS/1000) SECOND) AS TIME_COLLECTED, \\\n",
    "    HOUR(TIMESTAMP('1970-01-01','00.00.00') + (TS/1000) SECOND) AS HOUR_COLLECTED, \\\n",
    "    DATE(TIMESTAMP('1970-01-01','00.00.00') + (TS/1000) SECOND) AS DATE_COLLECTED, \\\n",
    "    (TIMESTAMP('1970-01-01','00.00.00') + (TS/1000) SECOND) AS TIMESTAMP_COLLECTED, \\\n",
    "    TS AS EPOCH_TIME, \\\n",
    "    \"USED\" AS USED_GB, \\\n",
    "    \"CAPACITY\" AS CAPACITY_GB \\\n",
    "    FROM \"IBM_SAILFISH\".\"MONITORING_STORAGE_FILESYSTEMS\"; \n",
    "FileSystemStorage.head()"
   ]
  },
  {
   "cell_type": "markdown",
   "metadata": {
    "deletable": true,
    "editable": true
   },
   "source": [
    "## Creating a Pivot Table\n",
    "With a simple single command you can use the existing dataframe to pivot the dataset by day and hour."
   ]
  },
  {
   "cell_type": "code",
   "execution_count": 13,
   "metadata": {
    "collapsed": false,
    "deletable": true,
    "editable": true
   },
   "outputs": [
    {
     "data": {
      "text/html": [
       "<div>\n",
       "<style scoped>\n",
       "    .dataframe tbody tr th:only-of-type {\n",
       "        vertical-align: middle;\n",
       "    }\n",
       "\n",
       "    .dataframe tbody tr th {\n",
       "        vertical-align: top;\n",
       "    }\n",
       "\n",
       "    .dataframe thead th {\n",
       "        text-align: right;\n",
       "    }\n",
       "</style>\n",
       "<table border=\"1\" class=\"dataframe\">\n",
       "  <thead>\n",
       "    <tr style=\"text-align: right;\">\n",
       "      <th></th>\n",
       "      <th></th>\n",
       "      <th></th>\n",
       "      <th>CAPACITY_GB</th>\n",
       "      <th>EPOCH_TIME</th>\n",
       "      <th>USED_GB</th>\n",
       "    </tr>\n",
       "    <tr>\n",
       "      <th>DATE_COLLECTED</th>\n",
       "      <th>HOUR_COLLECTED</th>\n",
       "      <th>NAME</th>\n",
       "      <th></th>\n",
       "      <th></th>\n",
       "      <th></th>\n",
       "    </tr>\n",
       "  </thead>\n",
       "  <tbody>\n",
       "    <tr>\n",
       "      <th rowspan=\"5\" valign=\"top\">2018-05-06</th>\n",
       "      <th rowspan=\"4\" valign=\"top\">15</th>\n",
       "      <th>data</th>\n",
       "      <td>115711.95</td>\n",
       "      <td>1.525621e+12</td>\n",
       "      <td>10.444444</td>\n",
       "    </tr>\n",
       "    <tr>\n",
       "      <th>head</th>\n",
       "      <td>3072.00</td>\n",
       "      <td>1.525621e+12</td>\n",
       "      <td>14.873333</td>\n",
       "    </tr>\n",
       "    <tr>\n",
       "      <th>local</th>\n",
       "      <td>115711.95</td>\n",
       "      <td>1.525621e+12</td>\n",
       "      <td>2294.090000</td>\n",
       "    </tr>\n",
       "    <tr>\n",
       "      <th>scratch</th>\n",
       "      <td>15360.00</td>\n",
       "      <td>1.525621e+12</td>\n",
       "      <td>120.600000</td>\n",
       "    </tr>\n",
       "    <tr>\n",
       "      <th>16</th>\n",
       "      <th>data</th>\n",
       "      <td>115711.95</td>\n",
       "      <td>1.525624e+12</td>\n",
       "      <td>10.620000</td>\n",
       "    </tr>\n",
       "    <tr>\n",
       "      <th>...</th>\n",
       "      <th>...</th>\n",
       "      <th>...</th>\n",
       "      <td>...</td>\n",
       "      <td>...</td>\n",
       "      <td>...</td>\n",
       "    </tr>\n",
       "    <tr>\n",
       "      <th rowspan=\"5\" valign=\"top\">2018-06-04</th>\n",
       "      <th>21</th>\n",
       "      <th>scratch</th>\n",
       "      <td>15360.00</td>\n",
       "      <td>1.528148e+12</td>\n",
       "      <td>1869.580000</td>\n",
       "    </tr>\n",
       "    <tr>\n",
       "      <th rowspan=\"4\" valign=\"top\">22</th>\n",
       "      <th>data</th>\n",
       "      <td>115711.95</td>\n",
       "      <td>1.528151e+12</td>\n",
       "      <td>13.490000</td>\n",
       "    </tr>\n",
       "    <tr>\n",
       "      <th>head</th>\n",
       "      <td>3072.00</td>\n",
       "      <td>1.528151e+12</td>\n",
       "      <td>95.899167</td>\n",
       "    </tr>\n",
       "    <tr>\n",
       "      <th>local</th>\n",
       "      <td>115711.95</td>\n",
       "      <td>1.528151e+12</td>\n",
       "      <td>2294.190000</td>\n",
       "    </tr>\n",
       "    <tr>\n",
       "      <th>scratch</th>\n",
       "      <td>15360.00</td>\n",
       "      <td>1.528151e+12</td>\n",
       "      <td>1869.580000</td>\n",
       "    </tr>\n",
       "  </tbody>\n",
       "</table>\n",
       "<p>1360 rows × 3 columns</p>\n",
       "</div>"
      ],
      "text/plain": [
       "                                                                                  CAPACITY_GB  \\\n",
       "DATE_COLLECTED HOUR_COLLECTED NAME                                                              \n",
       "2018-05-06     15             data                                                  115711.95   \n",
       "                              head                                                    3072.00   \n",
       "                              local                                                 115711.95   \n",
       "                              scratch                                                15360.00   \n",
       "               16             data                                                  115711.95   \n",
       "...                                                                                       ...   \n",
       "2018-06-04     21             scratch                                                15360.00   \n",
       "               22             data                                                  115711.95   \n",
       "                              head                                                    3072.00   \n",
       "                              local                                                 115711.95   \n",
       "                              scratch                                                15360.00   \n",
       "\n",
       "                                                                                    EPOCH_TIME  \\\n",
       "DATE_COLLECTED HOUR_COLLECTED NAME                                                               \n",
       "2018-05-06     15             data                                                1.525621e+12   \n",
       "                              head                                                1.525621e+12   \n",
       "                              local                                               1.525621e+12   \n",
       "                              scratch                                             1.525621e+12   \n",
       "               16             data                                                1.525624e+12   \n",
       "...                                                                                        ...   \n",
       "2018-06-04     21             scratch                                             1.528148e+12   \n",
       "               22             data                                                1.528151e+12   \n",
       "                              head                                                1.528151e+12   \n",
       "                              local                                               1.528151e+12   \n",
       "                              scratch                                             1.528151e+12   \n",
       "\n",
       "                                                                                      USED_GB  \n",
       "DATE_COLLECTED HOUR_COLLECTED NAME                                                             \n",
       "2018-05-06     15             data                                                  10.444444  \n",
       "                              head                                                  14.873333  \n",
       "                              local                                               2294.090000  \n",
       "                              scratch                                              120.600000  \n",
       "               16             data                                                  10.620000  \n",
       "...                                                                                       ...  \n",
       "2018-06-04     21             scratch                                             1869.580000  \n",
       "               22             data                                                  13.490000  \n",
       "                              head                                                  95.899167  \n",
       "                              local                                               2294.190000  \n",
       "                              scratch                                             1869.580000  \n",
       "\n",
       "[1360 rows x 3 columns]"
      ]
     },
     "execution_count": 13,
     "metadata": {},
     "output_type": "execute_result"
    }
   ],
   "source": [
    "pd.pivot_table(FileSystemStorage,index=[\"DATE_COLLECTED\",\"HOUR_COLLECTED\",\"NAME\"])"
   ]
  },
  {
   "cell_type": "markdown",
   "metadata": {
    "deletable": true,
    "editable": true
   },
   "source": [
    "## Graphing Receive and Transmit Volumes\n",
    "So see the full dataset more easily you can graph both send and receive volumns."
   ]
  },
  {
   "cell_type": "code",
   "execution_count": 28,
   "metadata": {
    "collapsed": false,
    "deletable": true,
    "editable": true
   },
   "outputs": [
    {
     "data": {
      "text/html": [
       "<div>\n",
       "<style scoped>\n",
       "    .dataframe tbody tr th:only-of-type {\n",
       "        vertical-align: middle;\n",
       "    }\n",
       "\n",
       "    .dataframe tbody tr th {\n",
       "        vertical-align: top;\n",
       "    }\n",
       "\n",
       "    .dataframe thead th {\n",
       "        text-align: right;\n",
       "    }\n",
       "</style>\n",
       "<table border=\"1\" class=\"dataframe\">\n",
       "  <thead>\n",
       "    <tr style=\"text-align: right;\">\n",
       "      <th></th>\n",
       "      <th>NAME</th>\n",
       "      <th>TIME_COLLECTED</th>\n",
       "      <th>HOUR_COLLECTED</th>\n",
       "      <th>DATE_COLLECTED</th>\n",
       "      <th>TIMESTAMP_COLLECTED</th>\n",
       "      <th>EPOCH_TIME</th>\n",
       "      <th>USED_GB</th>\n",
       "      <th>CAPACITY_GB</th>\n",
       "    </tr>\n",
       "  </thead>\n",
       "  <tbody>\n",
       "    <tr>\n",
       "      <th>0</th>\n",
       "      <td>data                                          ...</td>\n",
       "      <td>04:48:06</td>\n",
       "      <td>4</td>\n",
       "      <td>2018-05-27</td>\n",
       "      <td>2018-05-27 04:48:06</td>\n",
       "      <td>1527396486859</td>\n",
       "      <td>13.49</td>\n",
       "      <td>115711.95</td>\n",
       "    </tr>\n",
       "    <tr>\n",
       "      <th>1</th>\n",
       "      <td>data                                          ...</td>\n",
       "      <td>04:49:06</td>\n",
       "      <td>4</td>\n",
       "      <td>2018-05-27</td>\n",
       "      <td>2018-05-27 04:49:06</td>\n",
       "      <td>1527396546973</td>\n",
       "      <td>13.49</td>\n",
       "      <td>115711.95</td>\n",
       "    </tr>\n",
       "    <tr>\n",
       "      <th>2</th>\n",
       "      <td>data                                          ...</td>\n",
       "      <td>04:50:07</td>\n",
       "      <td>4</td>\n",
       "      <td>2018-05-27</td>\n",
       "      <td>2018-05-27 04:50:07</td>\n",
       "      <td>1527396607422</td>\n",
       "      <td>13.49</td>\n",
       "      <td>115711.95</td>\n",
       "    </tr>\n",
       "    <tr>\n",
       "      <th>3</th>\n",
       "      <td>data                                          ...</td>\n",
       "      <td>04:51:07</td>\n",
       "      <td>4</td>\n",
       "      <td>2018-05-27</td>\n",
       "      <td>2018-05-27 04:51:07</td>\n",
       "      <td>1527396667473</td>\n",
       "      <td>13.49</td>\n",
       "      <td>115711.95</td>\n",
       "    </tr>\n",
       "    <tr>\n",
       "      <th>4</th>\n",
       "      <td>data                                          ...</td>\n",
       "      <td>04:52:07</td>\n",
       "      <td>4</td>\n",
       "      <td>2018-05-27</td>\n",
       "      <td>2018-05-27 04:52:07</td>\n",
       "      <td>1527396727553</td>\n",
       "      <td>13.49</td>\n",
       "      <td>115711.95</td>\n",
       "    </tr>\n",
       "  </tbody>\n",
       "</table>\n",
       "</div>"
      ],
      "text/plain": [
       "                                                NAME TIME_COLLECTED  \\\n",
       "0  data                                          ...       04:48:06   \n",
       "1  data                                          ...       04:49:06   \n",
       "2  data                                          ...       04:50:07   \n",
       "3  data                                          ...       04:51:07   \n",
       "4  data                                          ...       04:52:07   \n",
       "\n",
       "   HOUR_COLLECTED DATE_COLLECTED TIMESTAMP_COLLECTED     EPOCH_TIME  USED_GB  \\\n",
       "0               4     2018-05-27 2018-05-27 04:48:06  1527396486859    13.49   \n",
       "1               4     2018-05-27 2018-05-27 04:49:06  1527396546973    13.49   \n",
       "2               4     2018-05-27 2018-05-27 04:50:07  1527396607422    13.49   \n",
       "3               4     2018-05-27 2018-05-27 04:51:07  1527396667473    13.49   \n",
       "4               4     2018-05-27 2018-05-27 04:52:07  1527396727553    13.49   \n",
       "\n",
       "   CAPACITY_GB  \n",
       "0    115711.95  \n",
       "1    115711.95  \n",
       "2    115711.95  \n",
       "3    115711.95  \n",
       "4    115711.95  "
      ]
     },
     "execution_count": 28,
     "metadata": {},
     "output_type": "execute_result"
    }
   ],
   "source": [
    "FileSystemStorageData = %sql \\\n",
    "SELECT \\\n",
    "    \"NAME\", \\\n",
    "    TIME(TIMESTAMP('1970-01-01','00.00.00') + (TS/1000) SECOND) AS TIME_COLLECTED, \\\n",
    "    HOUR(TIMESTAMP('1970-01-01','00.00.00') + (TS/1000) SECOND) AS HOUR_COLLECTED, \\\n",
    "    DATE(TIMESTAMP('1970-01-01','00.00.00') + (TS/1000) SECOND) AS DATE_COLLECTED, \\\n",
    "    (TIMESTAMP('1970-01-01','00.00.00') + (TS/1000) SECOND) AS TIMESTAMP_COLLECTED, \\\n",
    "    TS AS EPOCH_TIME, \\\n",
    "    \"USED\" AS USED_GB, \\\n",
    "    \"CAPACITY\" AS CAPACITY_GB \\\n",
    "    FROM \"IBM_SAILFISH\".\"MONITORING_STORAGE_FILESYSTEMS\" WHERE NAME = 'data'; \n",
    "FileSystemStorageData.head()"
   ]
  },
  {
   "cell_type": "code",
   "execution_count": 29,
   "metadata": {
    "collapsed": false,
    "deletable": true,
    "editable": true
   },
   "outputs": [
    {
     "data": {
      "image/png": "[encoded data removed]",
      "text/plain": [
       "<matplotlib.figure.Figure at 0x7f216ceefbd0>"
      ]
     },
     "metadata": {},
     "output_type": "display_data"
    }
   ],
   "source": [
    "FileSystemStorageData.sort_values('EPOCH_TIME').plot(x='TIMESTAMP_COLLECTED', y='USED_GB', color='b')\n",
    "plt.show()"
   ]
  },
  {
   "cell_type": "code",
   "execution_count": null,
   "metadata": {
    "collapsed": true,
    "deletable": true,
    "editable": true
   },
   "outputs": [],
   "source": []
  }
 ],
 "metadata": {
  "kernelspec": {
   "display_name": "Python 2",
   "language": "python",
   "name": "python2"
  },
  "language_info": {
   "codemirror_mode": {
    "name": "ipython",
    "version": 2
   },
   "file_extension": ".py",
   "mimetype": "text/x-python",
   "name": "python",
   "nbconvert_exporter": "python",
   "pygments_lexer": "ipython2",
   "version": "2.7.13"
  }
 },
 "nbformat": 4,
 "nbformat_minor": 2
}
