{
 "cells": [
  {
   "cell_type": "markdown",
   "metadata": {
    "collapsed": true,
    "deletable": true,
    "editable": true
   },
   "source": [
    "# IIAS Network Report\n",
    "Query the IIAS database to summarize network traffic for your IIA System using the database collected and stored in the IIAS Database. The historical records for the IIAS System are stored in the IBM_SAILFISH Schema.\n",
    "\n",
    "## Db2 Extensions\n",
    "This tutorial relies on a Jupyter notebook extensions, commonly refer to as a \"magic\" commands. The beginning of all of the notebooks begin with the following command which will load the extension and allow the remainder of the notebook to use the %sql magic command.\n",
    "<pre>\n",
    "&#37;run db2.ipynb\n",
    "</pre>\n",
    "The cell below will load the Db2 extension. Note that it will take a few seconds for the extension to load, so you should generally wait until the \"Db2 Extensions Loaded\" message is displayed in your notebook. You can find out more about the Db2 Extensions at https://github.com/DB2-Samples/db2jupyter"
   ]
  },
  {
   "cell_type": "code",
   "execution_count": 1,
   "metadata": {
    "collapsed": false,
    "deletable": true,
    "editable": true
   },
   "outputs": [
    {
     "name": "stdout",
     "output_type": "stream",
     "text": [
      "Pixiedust database opened successfully\n"
     ]
    },
    {
     "data": {
      "text/html": [
       "\n",
       "        <div style=\"margin:10px\">\n",
       "            <a href=\"https://github.com/ibm-watson-data-lab/pixiedust\" target=\"_new\">\n",
       "                <img src=\"https://github.com/ibm-watson-data-lab/pixiedust/raw/master/docs/_static/pd_icon32.png\" style=\"float:left;margin-right:10px\"/>\n",
       "            </a>\n",
       "            <span>Pixiedust version 1.1.10</span>\n",
       "        </div>\n",
       "        "
      ],
      "text/plain": [
       "<IPython.core.display.HTML object>"
      ]
     },
     "metadata": {},
     "output_type": "display_data"
    },
    {
     "name": "stdout",
     "output_type": "stream",
     "text": [
      "DB2 Extensions Loaded.\n"
     ]
    },
    {
     "data": {
      "text/html": [
       "<style>\n",
       "  table {margin-left: 0 !important; text-align: left;}\n",
       "</style>"
      ],
      "text/plain": [
       "<IPython.core.display.HTML object>"
      ]
     },
     "metadata": {},
     "output_type": "display_data"
    }
   ],
   "source": [
    "%run db2.ipynb"
   ]
  },
  {
   "cell_type": "code",
   "execution_count": 2,
   "metadata": {
    "collapsed": false,
    "deletable": true,
    "editable": true
   },
   "outputs": [],
   "source": [
    "# load pandas for dataframe support and numpy for statistical manipulation and matplot for graphing\n",
    "import pandas as pd\n",
    "import numpy as np\n",
    "import matplotlib.pyplot as plt"
   ]
  },
  {
   "cell_type": "markdown",
   "metadata": {
    "deletable": true,
    "editable": true
   },
   "source": [
    "# Connections to Db2\n",
    "\n",
    "Before any SQL commands can be issued, a connection needs to be made to the Db2 database that you will be using. The connection can be done manually (through the use of the CONNECT command), or automatically when the first %sql command is issued.\n",
    "\n",
    "The Db2 magic command tracks whether or not a connection has occured in the past and saves this information between notebooks and sessions. When you start up a notebook and issue a command, the program will reconnect to the database using your credentials from the last session. In the event that you have not connected before, the system will prompt you for all the information it needs to connect. This information includes:\n",
    "\n",
    "- Database name (SAMPLE) \n",
    "- Hostname - localhost (enter an IP address if you need to connect to a remote server) \n",
    "- PORT - 50000 (this is the default but it could be different) \n",
    "- Userid - DB2INST1 \n",
    "- Password - No password is provided so you have to enter a value \n",
    "- Maximum Rows - 10 lines of output are displayed when a result set is returned \n",
    "\n",
    "There will be default values presented in the panels that you can accept, or enter your own values. All of the information will be stored in the directory that the notebooks are stored on. Once you have entered the information, the system will attempt to connect to the database for you and then you can run all of the SQL scripts. More details on the CONNECT syntax will be found in a section below.\n",
    "\n",
    "The next statement will force a CONNECT to occur with the default values. If you have not connected before, it will prompt you for the information."
   ]
  },
  {
   "cell_type": "code",
   "execution_count": 3,
   "metadata": {
    "collapsed": false,
    "deletable": true,
    "editable": true
   },
   "outputs": [
    {
     "name": "stdout",
     "output_type": "stream",
     "text": [
      "Connection reset.\n"
     ]
    }
   ],
   "source": [
    "%sql connect reset"
   ]
  },
  {
   "cell_type": "code",
   "execution_count": 4,
   "metadata": {
    "collapsed": false,
    "deletable": true,
    "editable": true
   },
   "outputs": [
    {
     "name": "stdout",
     "output_type": "stream",
     "text": [
      "Password [password]: ········\n",
      "Connection successful.\n"
     ]
    }
   ],
   "source": [
    "# create a persistent connection to the DSM Historical Repository Database\n",
    "%sql connect to BLUDB user bluadmin using ? host 9.30.254.152 port 50000"
   ]
  },
  {
   "cell_type": "markdown",
   "metadata": {
    "deletable": true,
    "editable": true
   },
   "source": [
    "## Retrieving historical system data from IIAS"
   ]
  },
  {
   "cell_type": "markdown",
   "metadata": {
    "deletable": true,
    "editable": true
   },
   "source": [
    "The [ADMINTABINFO administrative view](https://www.ibm.com/support/knowledgecenter/en/SSEPGG_11.1.0/com.ibm.db2.luw.sql.rtn.doc/doc/r0052897.html)\n",
    "returns size and state information for tables, materialized query tables (MQT) and hierarchy tables only. These table types are reported as T for table, S for materialized query tables and H for hierarchy tables in the SYSCAT.TABLES catalog view. The information is returned at both the data partition level and the database partition level for a table.\n",
    "\n",
    "The query below shows you all the System Level monitoring tables available."
   ]
  },
  {
   "cell_type": "code",
   "execution_count": 5,
   "metadata": {
    "collapsed": false,
    "deletable": true,
    "editable": true
   },
   "outputs": [
    {
     "data": {
      "text/html": [
       "<div>\n",
       "<style scoped>\n",
       "    .dataframe tbody tr th:only-of-type {\n",
       "        vertical-align: middle;\n",
       "    }\n",
       "\n",
       "    .dataframe tbody tr th {\n",
       "        vertical-align: top;\n",
       "    }\n",
       "\n",
       "    .dataframe thead th {\n",
       "        text-align: right;\n",
       "    }\n",
       "</style>\n",
       "<table border=\"1\" class=\"dataframe\">\n",
       "  <thead>\n",
       "    <tr style=\"text-align: right;\">\n",
       "      <th></th>\n",
       "      <th>SYSTEM_MONITORING_TABLES</th>\n",
       "    </tr>\n",
       "  </thead>\n",
       "  <tbody>\n",
       "    <tr>\n",
       "      <th>0</th>\n",
       "      <td>ALERTS_MAPPING</td>\n",
       "    </tr>\n",
       "    <tr>\n",
       "      <th>1</th>\n",
       "      <td>MONITORING_CPU</td>\n",
       "    </tr>\n",
       "    <tr>\n",
       "      <th>2</th>\n",
       "      <td>MONITORING_IO_READ</td>\n",
       "    </tr>\n",
       "    <tr>\n",
       "      <th>3</th>\n",
       "      <td>MONITORING_IO_WRITE</td>\n",
       "    </tr>\n",
       "    <tr>\n",
       "      <th>4</th>\n",
       "      <td>MONITORING_MEMORY</td>\n",
       "    </tr>\n",
       "    <tr>\n",
       "      <th>5</th>\n",
       "      <td>MONITORING_NETWORK_RX</td>\n",
       "    </tr>\n",
       "    <tr>\n",
       "      <th>6</th>\n",
       "      <td>MONITORING_NETWORK_TX</td>\n",
       "    </tr>\n",
       "    <tr>\n",
       "      <th>7</th>\n",
       "      <td>MONITORING_STORAGE_FILESYSTEMS</td>\n",
       "    </tr>\n",
       "    <tr>\n",
       "      <th>8</th>\n",
       "      <td>MONITORING_STORAGE_NODELEVEL</td>\n",
       "    </tr>\n",
       "    <tr>\n",
       "      <th>9</th>\n",
       "      <td>MONITORING_STORAGE_NODES</td>\n",
       "    </tr>\n",
       "    <tr>\n",
       "      <th>10</th>\n",
       "      <td>MONITORING_SWAP</td>\n",
       "    </tr>\n",
       "    <tr>\n",
       "      <th>11</th>\n",
       "      <td>SAILFISH_VERSION</td>\n",
       "    </tr>\n",
       "  </tbody>\n",
       "</table>\n",
       "</div>"
      ],
      "text/plain": [
       "          SYSTEM_MONITORING_TABLES\n",
       "0                   ALERTS_MAPPING\n",
       "1                   MONITORING_CPU\n",
       "2               MONITORING_IO_READ\n",
       "3              MONITORING_IO_WRITE\n",
       "4                MONITORING_MEMORY\n",
       "5            MONITORING_NETWORK_RX\n",
       "6            MONITORING_NETWORK_TX\n",
       "7   MONITORING_STORAGE_FILESYSTEMS\n",
       "8     MONITORING_STORAGE_NODELEVEL\n",
       "9         MONITORING_STORAGE_NODES\n",
       "10                 MONITORING_SWAP\n",
       "11                SAILFISH_VERSION"
      ]
     },
     "execution_count": 5,
     "metadata": {},
     "output_type": "execute_result"
    }
   ],
   "source": [
    "%sql -a SELECT TABNAME AS SYSTEM_MONITORING_TABLES FROM SYSCAT.TABLES WHERE TABSCHEMA = 'IBM_SAILFISH' ORDER BY TABNAME"
   ]
  },
  {
   "cell_type": "markdown",
   "metadata": {},
   "source": [
    "## Retrieving Data and Converting Time\n",
    "The current timestamps of the collected data is stored in UNIX EPOCH format, seconds since January 1st, 1970. To convert to more useful values the statement below retrieves the database from the warehouse database and constructs several columns that can be used to group and classify data later. The results are automatically streamed into a new Data Frame called NetworkTX."
   ]
  },
  {
   "cell_type": "code",
   "execution_count": 16,
   "metadata": {
    "collapsed": false,
    "deletable": true,
    "editable": true
   },
   "outputs": [
    {
     "data": {
      "text/html": [
       "<div>\n",
       "<style scoped>\n",
       "    .dataframe tbody tr th:only-of-type {\n",
       "        vertical-align: middle;\n",
       "    }\n",
       "\n",
       "    .dataframe tbody tr th {\n",
       "        vertical-align: top;\n",
       "    }\n",
       "\n",
       "    .dataframe thead th {\n",
       "        text-align: right;\n",
       "    }\n",
       "</style>\n",
       "<table border=\"1\" class=\"dataframe\">\n",
       "  <thead>\n",
       "    <tr style=\"text-align: right;\">\n",
       "      <th></th>\n",
       "      <th>TIME_COLLECTED</th>\n",
       "      <th>HOUR_COLLECTED</th>\n",
       "      <th>DATE_COLLECTED</th>\n",
       "      <th>TIMESTAMP_COLLECTED</th>\n",
       "      <th>EPOCH_TIME</th>\n",
       "      <th>MIN_KBS</th>\n",
       "      <th>AVG_KBS</th>\n",
       "      <th>MAX_KBS</th>\n",
       "      <th>MASTER_KBS</th>\n",
       "    </tr>\n",
       "  </thead>\n",
       "  <tbody>\n",
       "    <tr>\n",
       "      <th>0</th>\n",
       "      <td>07:35:29</td>\n",
       "      <td>7</td>\n",
       "      <td>2018-05-08</td>\n",
       "      <td>2018-05-08 07:35:29</td>\n",
       "      <td>1525764929360</td>\n",
       "      <td>3.28</td>\n",
       "      <td>15.21</td>\n",
       "      <td>27.15</td>\n",
       "      <td>13.19</td>\n",
       "    </tr>\n",
       "    <tr>\n",
       "      <th>1</th>\n",
       "      <td>07:36:34</td>\n",
       "      <td>7</td>\n",
       "      <td>2018-05-08</td>\n",
       "      <td>2018-05-08 07:36:34</td>\n",
       "      <td>1525764994182</td>\n",
       "      <td>3.14</td>\n",
       "      <td>4.21</td>\n",
       "      <td>5.28</td>\n",
       "      <td>31.71</td>\n",
       "    </tr>\n",
       "    <tr>\n",
       "      <th>2</th>\n",
       "      <td>07:37:36</td>\n",
       "      <td>7</td>\n",
       "      <td>2018-05-08</td>\n",
       "      <td>2018-05-08 07:37:36</td>\n",
       "      <td>1525765056375</td>\n",
       "      <td>20.51</td>\n",
       "      <td>27.43</td>\n",
       "      <td>34.34</td>\n",
       "      <td>19.26</td>\n",
       "    </tr>\n",
       "    <tr>\n",
       "      <th>3</th>\n",
       "      <td>07:38:36</td>\n",
       "      <td>7</td>\n",
       "      <td>2018-05-08</td>\n",
       "      <td>2018-05-08 07:38:36</td>\n",
       "      <td>1525765116745</td>\n",
       "      <td>6.13</td>\n",
       "      <td>15.38</td>\n",
       "      <td>24.64</td>\n",
       "      <td>31.95</td>\n",
       "    </tr>\n",
       "    <tr>\n",
       "      <th>4</th>\n",
       "      <td>07:39:45</td>\n",
       "      <td>7</td>\n",
       "      <td>2018-05-08</td>\n",
       "      <td>2018-05-08 07:39:45</td>\n",
       "      <td>1525765185921</td>\n",
       "      <td>3.08</td>\n",
       "      <td>39.01</td>\n",
       "      <td>74.94</td>\n",
       "      <td>10.13</td>\n",
       "    </tr>\n",
       "  </tbody>\n",
       "</table>\n",
       "</div>"
      ],
      "text/plain": [
       "  TIME_COLLECTED  HOUR_COLLECTED DATE_COLLECTED TIMESTAMP_COLLECTED  \\\n",
       "0       07:35:29               7     2018-05-08 2018-05-08 07:35:29   \n",
       "1       07:36:34               7     2018-05-08 2018-05-08 07:36:34   \n",
       "2       07:37:36               7     2018-05-08 2018-05-08 07:37:36   \n",
       "3       07:38:36               7     2018-05-08 2018-05-08 07:38:36   \n",
       "4       07:39:45               7     2018-05-08 2018-05-08 07:39:45   \n",
       "\n",
       "      EPOCH_TIME  MIN_KBS  AVG_KBS  MAX_KBS  MASTER_KBS  \n",
       "0  1525764929360     3.28    15.21    27.15       13.19  \n",
       "1  1525764994182     3.14     4.21     5.28       31.71  \n",
       "2  1525765056375    20.51    27.43    34.34       19.26  \n",
       "3  1525765116745     6.13    15.38    24.64       31.95  \n",
       "4  1525765185921     3.08    39.01    74.94       10.13  "
      ]
     },
     "execution_count": 16,
     "metadata": {},
     "output_type": "execute_result"
    }
   ],
   "source": [
    "NetworkTX = %sql \\\n",
    "SELECT TIME(TIMESTAMP('1970-01-01','00.00.00') + (TS/1000) SECOND) AS TIME_COLLECTED, \\\n",
    "    HOUR(TIMESTAMP('1970-01-01','00.00.00') + (TS/1000) SECOND) AS HOUR_COLLECTED, \\\n",
    "    DATE(TIMESTAMP('1970-01-01','00.00.00') + (TS/1000) SECOND) AS DATE_COLLECTED, \\\n",
    "    (TIMESTAMP('1970-01-01','00.00.00') + (TS/1000) SECOND) AS TIMESTAMP_COLLECTED, \\\n",
    "    TS AS EPOCH_TIME, \\\n",
    "    \"MIN_VAL\" AS MIN_KBS, \\\n",
    "    \"AVG_VAL\" AS AVG_KBS, \\\n",
    "    \"MAX_VAL\" AS MAX_KBS, \\\n",
    "    \"MASTER_VAL\" AS MASTER_KBS \\\n",
    "    FROM \"IBM_SAILFISH\".\"MONITORING_NETWORK_TX\"; \n",
    "NetworkTX.head()"
   ]
  },
  {
   "cell_type": "code",
   "execution_count": 15,
   "metadata": {
    "collapsed": false,
    "deletable": true,
    "editable": true
   },
   "outputs": [
    {
     "data": {
      "text/html": [
       "<div>\n",
       "<style scoped>\n",
       "    .dataframe tbody tr th:only-of-type {\n",
       "        vertical-align: middle;\n",
       "    }\n",
       "\n",
       "    .dataframe tbody tr th {\n",
       "        vertical-align: top;\n",
       "    }\n",
       "\n",
       "    .dataframe thead th {\n",
       "        text-align: right;\n",
       "    }\n",
       "</style>\n",
       "<table border=\"1\" class=\"dataframe\">\n",
       "  <thead>\n",
       "    <tr style=\"text-align: right;\">\n",
       "      <th></th>\n",
       "      <th>TIME_COLLECTED</th>\n",
       "      <th>HOUR_COLLECTED</th>\n",
       "      <th>DATE_COLLECTED</th>\n",
       "      <th>TIMESTAMP_COLLECTED</th>\n",
       "      <th>EPOCH_TIME</th>\n",
       "      <th>MIN_KBS</th>\n",
       "      <th>AVG_KBS</th>\n",
       "      <th>MAX_KBS</th>\n",
       "      <th>MASTER_KBS</th>\n",
       "    </tr>\n",
       "  </thead>\n",
       "  <tbody>\n",
       "    <tr>\n",
       "      <th>0</th>\n",
       "      <td>07:35:29</td>\n",
       "      <td>7</td>\n",
       "      <td>2018-05-08</td>\n",
       "      <td>2018-05-08 07:35:29</td>\n",
       "      <td>1525764929360</td>\n",
       "      <td>2.71</td>\n",
       "      <td>14.68</td>\n",
       "      <td>26.64</td>\n",
       "      <td>14.40</td>\n",
       "    </tr>\n",
       "    <tr>\n",
       "      <th>1</th>\n",
       "      <td>07:36:34</td>\n",
       "      <td>7</td>\n",
       "      <td>2018-05-08</td>\n",
       "      <td>2018-05-08 07:36:34</td>\n",
       "      <td>1525764994182</td>\n",
       "      <td>2.61</td>\n",
       "      <td>3.62</td>\n",
       "      <td>4.62</td>\n",
       "      <td>166.02</td>\n",
       "    </tr>\n",
       "    <tr>\n",
       "      <th>2</th>\n",
       "      <td>07:37:36</td>\n",
       "      <td>7</td>\n",
       "      <td>2018-05-08</td>\n",
       "      <td>2018-05-08 07:37:36</td>\n",
       "      <td>1525765056375</td>\n",
       "      <td>20.29</td>\n",
       "      <td>27.45</td>\n",
       "      <td>34.60</td>\n",
       "      <td>12.33</td>\n",
       "    </tr>\n",
       "    <tr>\n",
       "      <th>3</th>\n",
       "      <td>07:38:36</td>\n",
       "      <td>7</td>\n",
       "      <td>2018-05-08</td>\n",
       "      <td>2018-05-08 07:38:36</td>\n",
       "      <td>1525765116745</td>\n",
       "      <td>6.74</td>\n",
       "      <td>14.61</td>\n",
       "      <td>22.47</td>\n",
       "      <td>27.82</td>\n",
       "    </tr>\n",
       "    <tr>\n",
       "      <th>4</th>\n",
       "      <td>07:39:45</td>\n",
       "      <td>7</td>\n",
       "      <td>2018-05-08</td>\n",
       "      <td>2018-05-08 07:39:45</td>\n",
       "      <td>1525765185921</td>\n",
       "      <td>2.68</td>\n",
       "      <td>34.04</td>\n",
       "      <td>65.39</td>\n",
       "      <td>9.84</td>\n",
       "    </tr>\n",
       "  </tbody>\n",
       "</table>\n",
       "</div>"
      ],
      "text/plain": [
       "  TIME_COLLECTED  HOUR_COLLECTED DATE_COLLECTED TIMESTAMP_COLLECTED  \\\n",
       "0       07:35:29               7     2018-05-08 2018-05-08 07:35:29   \n",
       "1       07:36:34               7     2018-05-08 2018-05-08 07:36:34   \n",
       "2       07:37:36               7     2018-05-08 2018-05-08 07:37:36   \n",
       "3       07:38:36               7     2018-05-08 2018-05-08 07:38:36   \n",
       "4       07:39:45               7     2018-05-08 2018-05-08 07:39:45   \n",
       "\n",
       "      EPOCH_TIME  MIN_KBS  AVG_KBS  MAX_KBS  MASTER_KBS  \n",
       "0  1525764929360     2.71    14.68    26.64       14.40  \n",
       "1  1525764994182     2.61     3.62     4.62      166.02  \n",
       "2  1525765056375    20.29    27.45    34.60       12.33  \n",
       "3  1525765116745     6.74    14.61    22.47       27.82  \n",
       "4  1525765185921     2.68    34.04    65.39        9.84  "
      ]
     },
     "execution_count": 15,
     "metadata": {},
     "output_type": "execute_result"
    }
   ],
   "source": [
    "NetworkRX = %sql \\\n",
    "SELECT TIME(TIMESTAMP('1970-01-01','00.00.00') + (TS/1000) SECOND) AS TIME_COLLECTED, \\\n",
    "    HOUR(TIMESTAMP('1970-01-01','00.00.00') + (TS/1000) SECOND) AS HOUR_COLLECTED, \\\n",
    "    DATE(TIMESTAMP('1970-01-01','00.00.00') + (TS/1000) SECOND) AS DATE_COLLECTED, \\\n",
    "    (TIMESTAMP('1970-01-01','00.00.00') + (TS/1000) SECOND) AS TIMESTAMP_COLLECTED, \\\n",
    "    TS AS EPOCH_TIME, \\\n",
    "    \"MIN_VAL\" AS MIN_KBS, \\\n",
    "    \"AVG_VAL\" AS AVG_KBS, \\\n",
    "    \"MAX_VAL\" AS MAX_KBS, \\\n",
    "    \"MASTER_VAL\" AS MASTER_KBS \\\n",
    "    FROM \"IBM_SAILFISH\".\"MONITORING_NETWORK_RX\"; \n",
    "NetworkRX.head()"
   ]
  },
  {
   "cell_type": "markdown",
   "metadata": {},
   "source": [
    "## Creating a Pivot Table\n",
    "With a simple single command you can use the existing dataframe to pivot the dataset by day and hour."
   ]
  },
  {
   "cell_type": "code",
   "execution_count": 17,
   "metadata": {
    "collapsed": false,
    "deletable": true,
    "editable": true
   },
   "outputs": [
    {
     "data": {
      "text/html": [
       "<div>\n",
       "<style scoped>\n",
       "    .dataframe tbody tr th:only-of-type {\n",
       "        vertical-align: middle;\n",
       "    }\n",
       "\n",
       "    .dataframe tbody tr th {\n",
       "        vertical-align: top;\n",
       "    }\n",
       "\n",
       "    .dataframe thead th {\n",
       "        text-align: right;\n",
       "    }\n",
       "</style>\n",
       "<table border=\"1\" class=\"dataframe\">\n",
       "  <thead>\n",
       "    <tr style=\"text-align: right;\">\n",
       "      <th></th>\n",
       "      <th></th>\n",
       "      <th>AVG_KBS</th>\n",
       "      <th>EPOCH_TIME</th>\n",
       "      <th>MASTER_KBS</th>\n",
       "      <th>MAX_KBS</th>\n",
       "      <th>MIN_KBS</th>\n",
       "    </tr>\n",
       "    <tr>\n",
       "      <th>DATE_COLLECTED</th>\n",
       "      <th>HOUR_COLLECTED</th>\n",
       "      <th></th>\n",
       "      <th></th>\n",
       "      <th></th>\n",
       "      <th></th>\n",
       "      <th></th>\n",
       "    </tr>\n",
       "  </thead>\n",
       "  <tbody>\n",
       "    <tr>\n",
       "      <th rowspan=\"5\" valign=\"top\">2018-05-08</th>\n",
       "      <th>7</th>\n",
       "      <td>488.609167</td>\n",
       "      <td>1.525766e+12</td>\n",
       "      <td>67.852083</td>\n",
       "      <td>921.173750</td>\n",
       "      <td>56.042917</td>\n",
       "    </tr>\n",
       "    <tr>\n",
       "      <th>8</th>\n",
       "      <td>143.520826</td>\n",
       "      <td>1.525768e+12</td>\n",
       "      <td>33.285688</td>\n",
       "      <td>270.727339</td>\n",
       "      <td>16.314128</td>\n",
       "    </tr>\n",
       "    <tr>\n",
       "      <th>9</th>\n",
       "      <td>52.523478</td>\n",
       "      <td>1.525772e+12</td>\n",
       "      <td>135.317217</td>\n",
       "      <td>86.973652</td>\n",
       "      <td>18.072087</td>\n",
       "    </tr>\n",
       "    <tr>\n",
       "      <th>10</th>\n",
       "      <td>73.108017</td>\n",
       "      <td>1.525775e+12</td>\n",
       "      <td>44.537155</td>\n",
       "      <td>126.705172</td>\n",
       "      <td>19.510776</td>\n",
       "    </tr>\n",
       "    <tr>\n",
       "      <th>11</th>\n",
       "      <td>41.603793</td>\n",
       "      <td>1.525779e+12</td>\n",
       "      <td>55.685690</td>\n",
       "      <td>68.253534</td>\n",
       "      <td>14.952931</td>\n",
       "    </tr>\n",
       "    <tr>\n",
       "      <th>...</th>\n",
       "      <th>...</th>\n",
       "      <td>...</td>\n",
       "      <td>...</td>\n",
       "      <td>...</td>\n",
       "      <td>...</td>\n",
       "      <td>...</td>\n",
       "    </tr>\n",
       "    <tr>\n",
       "      <th rowspan=\"5\" valign=\"top\">2018-05-30</th>\n",
       "      <th>5</th>\n",
       "      <td>60.158276</td>\n",
       "      <td>1.527658e+12</td>\n",
       "      <td>251.198448</td>\n",
       "      <td>97.742414</td>\n",
       "      <td>22.574655</td>\n",
       "    </tr>\n",
       "    <tr>\n",
       "      <th>6</th>\n",
       "      <td>100.092105</td>\n",
       "      <td>1.527662e+12</td>\n",
       "      <td>122.326491</td>\n",
       "      <td>186.028246</td>\n",
       "      <td>14.154561</td>\n",
       "    </tr>\n",
       "    <tr>\n",
       "      <th>7</th>\n",
       "      <td>58.048276</td>\n",
       "      <td>1.527665e+12</td>\n",
       "      <td>244.376897</td>\n",
       "      <td>104.629828</td>\n",
       "      <td>11.467759</td>\n",
       "    </tr>\n",
       "    <tr>\n",
       "      <th>8</th>\n",
       "      <td>393.357455</td>\n",
       "      <td>1.527669e+12</td>\n",
       "      <td>63.018545</td>\n",
       "      <td>769.631455</td>\n",
       "      <td>17.084182</td>\n",
       "    </tr>\n",
       "    <tr>\n",
       "      <th>9</th>\n",
       "      <td>19.557727</td>\n",
       "      <td>1.527672e+12</td>\n",
       "      <td>108.182727</td>\n",
       "      <td>25.930000</td>\n",
       "      <td>13.183636</td>\n",
       "    </tr>\n",
       "  </tbody>\n",
       "</table>\n",
       "<p>206 rows × 5 columns</p>\n",
       "</div>"
      ],
      "text/plain": [
       "                                  AVG_KBS    EPOCH_TIME  MASTER_KBS  \\\n",
       "DATE_COLLECTED HOUR_COLLECTED                                         \n",
       "2018-05-08     7               488.609167  1.525766e+12   67.852083   \n",
       "               8               143.520826  1.525768e+12   33.285688   \n",
       "               9                52.523478  1.525772e+12  135.317217   \n",
       "               10               73.108017  1.525775e+12   44.537155   \n",
       "               11               41.603793  1.525779e+12   55.685690   \n",
       "...                                   ...           ...         ...   \n",
       "2018-05-30     5                60.158276  1.527658e+12  251.198448   \n",
       "               6               100.092105  1.527662e+12  122.326491   \n",
       "               7                58.048276  1.527665e+12  244.376897   \n",
       "               8               393.357455  1.527669e+12   63.018545   \n",
       "               9                19.557727  1.527672e+12  108.182727   \n",
       "\n",
       "                                  MAX_KBS    MIN_KBS  \n",
       "DATE_COLLECTED HOUR_COLLECTED                         \n",
       "2018-05-08     7               921.173750  56.042917  \n",
       "               8               270.727339  16.314128  \n",
       "               9                86.973652  18.072087  \n",
       "               10              126.705172  19.510776  \n",
       "               11               68.253534  14.952931  \n",
       "...                                   ...        ...  \n",
       "2018-05-30     5                97.742414  22.574655  \n",
       "               6               186.028246  14.154561  \n",
       "               7               104.629828  11.467759  \n",
       "               8               769.631455  17.084182  \n",
       "               9                25.930000  13.183636  \n",
       "\n",
       "[206 rows x 5 columns]"
      ]
     },
     "execution_count": 17,
     "metadata": {},
     "output_type": "execute_result"
    }
   ],
   "source": [
    "pd.pivot_table(NetworkTX,index=[\"DATE_COLLECTED\",\"HOUR_COLLECTED\"])"
   ]
  },
  {
   "cell_type": "markdown",
   "metadata": {
    "deletable": true,
    "editable": true
   },
   "source": [
    "## Graphing Receive and Transmit Volumes\n",
    "So see the full dataset more easily you can graph both send and receive volumns."
   ]
  },
  {
   "cell_type": "code",
   "execution_count": 18,
   "metadata": {
    "collapsed": false,
    "deletable": true,
    "editable": true
   },
   "outputs": [
    {
     "data": {
      "image/png": "[encoded data removed]",
      "text/plain": [
       "<matplotlib.figure.Figure at 0x7f79ac973b10>"
      ]
     },
     "metadata": {},
     "output_type": "display_data"
    },
    {
     "data": {
      "image/png": "[encoded data removed]",
      "text/plain": [
       "<matplotlib.figure.Figure at 0x7f79accfe690>"
      ]
     },
     "metadata": {},
     "output_type": "display_data"
    }
   ],
   "source": [
    "NetworkTX.plot(x='TIMESTAMP_COLLECTED', y='MAX_KBS', color='b')\n",
    "NetworkRX.plot(x='TIMESTAMP_COLLECTED', y='MAX_KBS', color='r')\n",
    "plt.show()"
   ]
  },
  {
   "cell_type": "markdown",
   "metadata": {
    "deletable": true,
    "editable": true
   },
   "source": [
    "## Analyzing Time of Day Distributions\n",
    "A simple scatter graph based on the HOUR_COLLECTED can show you the distribution of network traffic by the time of the day."
   ]
  },
  {
   "cell_type": "code",
   "execution_count": 19,
   "metadata": {
    "collapsed": false,
    "deletable": true,
    "editable": true
   },
   "outputs": [
    {
     "data": {
      "image/png": "[encoded data removed]",
      "text/plain": [
       "<matplotlib.figure.Figure at 0x7f79ad06c510>"
      ]
     },
     "metadata": {},
     "output_type": "display_data"
    },
    {
     "data": {
      "image/png": "[encoded data removed]",
      "text/plain": [
       "<matplotlib.figure.Figure at 0x7f79acce7e10>"
      ]
     },
     "metadata": {},
     "output_type": "display_data"
    }
   ],
   "source": [
    "NetworkTX.plot.scatter(x='HOUR_COLLECTED', y='MAX_KBS', color='b')\n",
    "NetworkRX.plot.scatter(x='HOUR_COLLECTED', y='MAX_KBS', color='r')\n",
    "plt.show()"
   ]
  },
  {
   "cell_type": "markdown",
   "metadata": {
    "deletable": true,
    "editable": true
   },
   "source": [
    "## Analyzing Time of Day Distributions\n",
    "A simple scatter graph based on the HOUR_COLLECTED can show you the distribution of network traffic by the time of the day."
   ]
  },
  {
   "cell_type": "code",
   "execution_count": 20,
   "metadata": {
    "collapsed": false,
    "deletable": true,
    "editable": true
   },
   "outputs": [
    {
     "data": {
      "text/html": [
       "<div>\n",
       "<style scoped>\n",
       "    .dataframe tbody tr th:only-of-type {\n",
       "        vertical-align: middle;\n",
       "    }\n",
       "\n",
       "    .dataframe tbody tr th {\n",
       "        vertical-align: top;\n",
       "    }\n",
       "\n",
       "    .dataframe thead th {\n",
       "        text-align: right;\n",
       "    }\n",
       "</style>\n",
       "<table border=\"1\" class=\"dataframe\">\n",
       "  <thead>\n",
       "    <tr style=\"text-align: right;\">\n",
       "      <th></th>\n",
       "      <th>TIME_COLLECTED</th>\n",
       "      <th>HOUR_COLLECTED</th>\n",
       "      <th>DATE_COLLECTED</th>\n",
       "      <th>TIMESTAMP_COLLECTED</th>\n",
       "      <th>EPOCH_TIME</th>\n",
       "      <th>MIN_KBS</th>\n",
       "      <th>AVG_KBS</th>\n",
       "      <th>MAX_KBS</th>\n",
       "      <th>MASTER_KBS</th>\n",
       "    </tr>\n",
       "  </thead>\n",
       "  <tbody>\n",
       "    <tr>\n",
       "      <th>6936</th>\n",
       "      <td>06:54:30</td>\n",
       "      <td>6</td>\n",
       "      <td>2018-05-21</td>\n",
       "      <td>2018-05-21 06:54:30</td>\n",
       "      <td>1526885670350</td>\n",
       "      <td>11.67</td>\n",
       "      <td>48413.62</td>\n",
       "      <td>96815.57</td>\n",
       "      <td>255.30</td>\n",
       "    </tr>\n",
       "    <tr>\n",
       "      <th>9591</th>\n",
       "      <td>22:38:03</td>\n",
       "      <td>22</td>\n",
       "      <td>2018-05-24</td>\n",
       "      <td>2018-05-24 22:38:03</td>\n",
       "      <td>1527201483475</td>\n",
       "      <td>4.02</td>\n",
       "      <td>23428.29</td>\n",
       "      <td>46852.57</td>\n",
       "      <td>13.81</td>\n",
       "    </tr>\n",
       "    <tr>\n",
       "      <th>4894</th>\n",
       "      <td>07:31:15</td>\n",
       "      <td>7</td>\n",
       "      <td>2018-05-14</td>\n",
       "      <td>2018-05-14 07:31:15</td>\n",
       "      <td>1526283075694</td>\n",
       "      <td>9.57</td>\n",
       "      <td>22615.45</td>\n",
       "      <td>45221.33</td>\n",
       "      <td>96.58</td>\n",
       "    </tr>\n",
       "    <tr>\n",
       "      <th>5930</th>\n",
       "      <td>13:22:13</td>\n",
       "      <td>13</td>\n",
       "      <td>2018-05-17</td>\n",
       "      <td>2018-05-17 13:22:13</td>\n",
       "      <td>1526563333515</td>\n",
       "      <td>30.31</td>\n",
       "      <td>22332.72</td>\n",
       "      <td>44635.14</td>\n",
       "      <td>17.47</td>\n",
       "    </tr>\n",
       "    <tr>\n",
       "      <th>5931</th>\n",
       "      <td>13:22:13</td>\n",
       "      <td>13</td>\n",
       "      <td>2018-05-17</td>\n",
       "      <td>2018-05-17 13:22:13</td>\n",
       "      <td>1526563333515</td>\n",
       "      <td>30.31</td>\n",
       "      <td>22332.72</td>\n",
       "      <td>44635.14</td>\n",
       "      <td>17.47</td>\n",
       "    </tr>\n",
       "    <tr>\n",
       "      <th>...</th>\n",
       "      <td>...</td>\n",
       "      <td>...</td>\n",
       "      <td>...</td>\n",
       "      <td>...</td>\n",
       "      <td>...</td>\n",
       "      <td>...</td>\n",
       "      <td>...</td>\n",
       "      <td>...</td>\n",
       "      <td>...</td>\n",
       "    </tr>\n",
       "    <tr>\n",
       "      <th>9651</th>\n",
       "      <td>00:20:42</td>\n",
       "      <td>0</td>\n",
       "      <td>2018-05-25</td>\n",
       "      <td>2018-05-25 00:20:42</td>\n",
       "      <td>1527207642923</td>\n",
       "      <td>19.35</td>\n",
       "      <td>1275.43</td>\n",
       "      <td>2531.51</td>\n",
       "      <td>4.88</td>\n",
       "    </tr>\n",
       "    <tr>\n",
       "      <th>9520</th>\n",
       "      <td>20:43:43</td>\n",
       "      <td>20</td>\n",
       "      <td>2018-05-24</td>\n",
       "      <td>2018-05-24 20:43:43</td>\n",
       "      <td>1527194623263</td>\n",
       "      <td>4.83</td>\n",
       "      <td>913.74</td>\n",
       "      <td>1822.64</td>\n",
       "      <td>15.03</td>\n",
       "    </tr>\n",
       "    <tr>\n",
       "      <th>10622</th>\n",
       "      <td>12:08:09</td>\n",
       "      <td>12</td>\n",
       "      <td>2018-05-25</td>\n",
       "      <td>2018-05-25 12:08:09</td>\n",
       "      <td>1527250089141</td>\n",
       "      <td>14.25</td>\n",
       "      <td>891.55</td>\n",
       "      <td>1768.85</td>\n",
       "      <td>1090.49</td>\n",
       "    </tr>\n",
       "    <tr>\n",
       "      <th>1435</th>\n",
       "      <td>15:56:52</td>\n",
       "      <td>15</td>\n",
       "      <td>2018-05-08</td>\n",
       "      <td>2018-05-08 15:56:52</td>\n",
       "      <td>1525795012637</td>\n",
       "      <td>7.19</td>\n",
       "      <td>798.64</td>\n",
       "      <td>1590.09</td>\n",
       "      <td>104.48</td>\n",
       "    </tr>\n",
       "    <tr>\n",
       "      <th>408</th>\n",
       "      <td>20:52:38</td>\n",
       "      <td>20</td>\n",
       "      <td>2018-05-08</td>\n",
       "      <td>2018-05-08 20:52:38</td>\n",
       "      <td>1525812758225</td>\n",
       "      <td>47.45</td>\n",
       "      <td>708.10</td>\n",
       "      <td>1368.75</td>\n",
       "      <td>94.95</td>\n",
       "    </tr>\n",
       "  </tbody>\n",
       "</table>\n",
       "<p>48 rows × 9 columns</p>\n",
       "</div>"
      ],
      "text/plain": [
       "      TIME_COLLECTED  HOUR_COLLECTED DATE_COLLECTED TIMESTAMP_COLLECTED  \\\n",
       "6936        06:54:30               6     2018-05-21 2018-05-21 06:54:30   \n",
       "9591        22:38:03              22     2018-05-24 2018-05-24 22:38:03   \n",
       "4894        07:31:15               7     2018-05-14 2018-05-14 07:31:15   \n",
       "5930        13:22:13              13     2018-05-17 2018-05-17 13:22:13   \n",
       "5931        13:22:13              13     2018-05-17 2018-05-17 13:22:13   \n",
       "...              ...             ...            ...                 ...   \n",
       "9651        00:20:42               0     2018-05-25 2018-05-25 00:20:42   \n",
       "9520        20:43:43              20     2018-05-24 2018-05-24 20:43:43   \n",
       "10622       12:08:09              12     2018-05-25 2018-05-25 12:08:09   \n",
       "1435        15:56:52              15     2018-05-08 2018-05-08 15:56:52   \n",
       "408         20:52:38              20     2018-05-08 2018-05-08 20:52:38   \n",
       "\n",
       "          EPOCH_TIME  MIN_KBS   AVG_KBS   MAX_KBS  MASTER_KBS  \n",
       "6936   1526885670350    11.67  48413.62  96815.57      255.30  \n",
       "9591   1527201483475     4.02  23428.29  46852.57       13.81  \n",
       "4894   1526283075694     9.57  22615.45  45221.33       96.58  \n",
       "5930   1526563333515    30.31  22332.72  44635.14       17.47  \n",
       "5931   1526563333515    30.31  22332.72  44635.14       17.47  \n",
       "...              ...      ...       ...       ...         ...  \n",
       "9651   1527207642923    19.35   1275.43   2531.51        4.88  \n",
       "9520   1527194623263     4.83    913.74   1822.64       15.03  \n",
       "10622  1527250089141    14.25    891.55   1768.85     1090.49  \n",
       "1435   1525795012637     7.19    798.64   1590.09      104.48  \n",
       "408    1525812758225    47.45    708.10   1368.75       94.95  \n",
       "\n",
       "[48 rows x 9 columns]"
      ]
     },
     "execution_count": 20,
     "metadata": {},
     "output_type": "execute_result"
    }
   ],
   "source": [
    "NetworkTX.sort_values('MAX_KBS', ascending=False).groupby(\"HOUR_COLLECTED\").head(2)"
   ]
  },
  {
   "cell_type": "markdown",
   "metadata": {
    "deletable": true,
    "editable": true
   },
   "source": [
    "## Find the Peak Network Volumes by Hour\n",
    "Another single statement can sort and group values by the hour collected. head(2) returns the top two values for each hour of the day"
   ]
  },
  {
   "cell_type": "code",
   "execution_count": 12,
   "metadata": {
    "collapsed": false,
    "deletable": true,
    "editable": true
   },
   "outputs": [
    {
     "data": {
      "text/html": [
       "<div>\n",
       "<style scoped>\n",
       "    .dataframe tbody tr th:only-of-type {\n",
       "        vertical-align: middle;\n",
       "    }\n",
       "\n",
       "    .dataframe tbody tr th {\n",
       "        vertical-align: top;\n",
       "    }\n",
       "\n",
       "    .dataframe thead th {\n",
       "        text-align: right;\n",
       "    }\n",
       "</style>\n",
       "<table border=\"1\" class=\"dataframe\">\n",
       "  <thead>\n",
       "    <tr style=\"text-align: right;\">\n",
       "      <th></th>\n",
       "      <th>TIME_COLLECTED</th>\n",
       "      <th>HOUR_COLLECTED</th>\n",
       "      <th>DATE_COLLECTED</th>\n",
       "      <th>TIMESTAMP_COLLECTED</th>\n",
       "      <th>EPOCH_TIME</th>\n",
       "      <th>MIN_VAL</th>\n",
       "      <th>AVG_VAL</th>\n",
       "      <th>MAX_VAL</th>\n",
       "      <th>MASTER_VAL</th>\n",
       "    </tr>\n",
       "  </thead>\n",
       "  <tbody>\n",
       "    <tr>\n",
       "      <th>11144</th>\n",
       "      <td>05:55:01</td>\n",
       "      <td>5</td>\n",
       "      <td>2018-05-29</td>\n",
       "      <td>2018-05-29 05:55:01</td>\n",
       "      <td>1527573301924</td>\n",
       "      <td>4.44</td>\n",
       "      <td>9892.68</td>\n",
       "      <td>19780.93</td>\n",
       "      <td>75.27</td>\n",
       "    </tr>\n",
       "    <tr>\n",
       "      <th>10673</th>\n",
       "      <td>07:11:36</td>\n",
       "      <td>7</td>\n",
       "      <td>2018-05-29</td>\n",
       "      <td>2018-05-29 07:11:36</td>\n",
       "      <td>1527577896837</td>\n",
       "      <td>5.65</td>\n",
       "      <td>9728.02</td>\n",
       "      <td>19450.38</td>\n",
       "      <td>93.31</td>\n",
       "    </tr>\n",
       "    <tr>\n",
       "      <th>10547</th>\n",
       "      <td>16:29:21</td>\n",
       "      <td>16</td>\n",
       "      <td>2018-05-25</td>\n",
       "      <td>2018-05-25 16:29:21</td>\n",
       "      <td>1527265761806</td>\n",
       "      <td>8.91</td>\n",
       "      <td>9710.62</td>\n",
       "      <td>19412.33</td>\n",
       "      <td>1573.21</td>\n",
       "    </tr>\n",
       "    <tr>\n",
       "      <th>10640</th>\n",
       "      <td>06:36:58</td>\n",
       "      <td>6</td>\n",
       "      <td>2018-05-29</td>\n",
       "      <td>2018-05-29 06:36:58</td>\n",
       "      <td>1527575818622</td>\n",
       "      <td>9.01</td>\n",
       "      <td>9697.55</td>\n",
       "      <td>19386.08</td>\n",
       "      <td>23.58</td>\n",
       "    </tr>\n",
       "    <tr>\n",
       "      <th>10333</th>\n",
       "      <td>12:43:37</td>\n",
       "      <td>12</td>\n",
       "      <td>2018-05-25</td>\n",
       "      <td>2018-05-25 12:43:37</td>\n",
       "      <td>1527252217150</td>\n",
       "      <td>10.10</td>\n",
       "      <td>9696.52</td>\n",
       "      <td>19382.94</td>\n",
       "      <td>70.48</td>\n",
       "    </tr>\n",
       "    <tr>\n",
       "      <th>...</th>\n",
       "      <td>...</td>\n",
       "      <td>...</td>\n",
       "      <td>...</td>\n",
       "      <td>...</td>\n",
       "      <td>...</td>\n",
       "      <td>...</td>\n",
       "      <td>...</td>\n",
       "      <td>...</td>\n",
       "      <td>...</td>\n",
       "    </tr>\n",
       "    <tr>\n",
       "      <th>10407</th>\n",
       "      <td>14:03:00</td>\n",
       "      <td>14</td>\n",
       "      <td>2018-05-25</td>\n",
       "      <td>2018-05-25 14:03:00</td>\n",
       "      <td>1527256980073</td>\n",
       "      <td>53.70</td>\n",
       "      <td>824.68</td>\n",
       "      <td>1595.65</td>\n",
       "      <td>14.61</td>\n",
       "    </tr>\n",
       "    <tr>\n",
       "      <th>9934</th>\n",
       "      <td>11:23:22</td>\n",
       "      <td>11</td>\n",
       "      <td>2018-05-25</td>\n",
       "      <td>2018-05-25 11:23:22</td>\n",
       "      <td>1527247402198</td>\n",
       "      <td>16.29</td>\n",
       "      <td>720.32</td>\n",
       "      <td>1424.36</td>\n",
       "      <td>245.55</td>\n",
       "    </tr>\n",
       "    <tr>\n",
       "      <th>10163</th>\n",
       "      <td>20:43:43</td>\n",
       "      <td>20</td>\n",
       "      <td>2018-05-24</td>\n",
       "      <td>2018-05-24 20:43:43</td>\n",
       "      <td>1527194623263</td>\n",
       "      <td>11.62</td>\n",
       "      <td>461.43</td>\n",
       "      <td>911.23</td>\n",
       "      <td>23.07</td>\n",
       "    </tr>\n",
       "    <tr>\n",
       "      <th>11313</th>\n",
       "      <td>20:42:54</td>\n",
       "      <td>20</td>\n",
       "      <td>2018-05-29</td>\n",
       "      <td>2018-05-29 20:42:54</td>\n",
       "      <td>1527626574579</td>\n",
       "      <td>24.81</td>\n",
       "      <td>420.83</td>\n",
       "      <td>816.86</td>\n",
       "      <td>14.26</td>\n",
       "    </tr>\n",
       "    <tr>\n",
       "      <th>11263</th>\n",
       "      <td>19:15:15</td>\n",
       "      <td>19</td>\n",
       "      <td>2018-05-29</td>\n",
       "      <td>2018-05-29 19:15:15</td>\n",
       "      <td>1527621315471</td>\n",
       "      <td>53.77</td>\n",
       "      <td>399.52</td>\n",
       "      <td>745.28</td>\n",
       "      <td>101.16</td>\n",
       "    </tr>\n",
       "  </tbody>\n",
       "</table>\n",
       "<p>48 rows × 9 columns</p>\n",
       "</div>"
      ],
      "text/plain": [
       "      TIME_COLLECTED  HOUR_COLLECTED DATE_COLLECTED TIMESTAMP_COLLECTED  \\\n",
       "11144       05:55:01               5     2018-05-29 2018-05-29 05:55:01   \n",
       "10673       07:11:36               7     2018-05-29 2018-05-29 07:11:36   \n",
       "10547       16:29:21              16     2018-05-25 2018-05-25 16:29:21   \n",
       "10640       06:36:58               6     2018-05-29 2018-05-29 06:36:58   \n",
       "10333       12:43:37              12     2018-05-25 2018-05-25 12:43:37   \n",
       "...              ...             ...            ...                 ...   \n",
       "10407       14:03:00              14     2018-05-25 2018-05-25 14:03:00   \n",
       "9934        11:23:22              11     2018-05-25 2018-05-25 11:23:22   \n",
       "10163       20:43:43              20     2018-05-24 2018-05-24 20:43:43   \n",
       "11313       20:42:54              20     2018-05-29 2018-05-29 20:42:54   \n",
       "11263       19:15:15              19     2018-05-29 2018-05-29 19:15:15   \n",
       "\n",
       "          EPOCH_TIME  MIN_VAL  AVG_VAL   MAX_VAL  MASTER_VAL  \n",
       "11144  1527573301924     4.44  9892.68  19780.93       75.27  \n",
       "10673  1527577896837     5.65  9728.02  19450.38       93.31  \n",
       "10547  1527265761806     8.91  9710.62  19412.33     1573.21  \n",
       "10640  1527575818622     9.01  9697.55  19386.08       23.58  \n",
       "10333  1527252217150    10.10  9696.52  19382.94       70.48  \n",
       "...              ...      ...      ...       ...         ...  \n",
       "10407  1527256980073    53.70   824.68   1595.65       14.61  \n",
       "9934   1527247402198    16.29   720.32   1424.36      245.55  \n",
       "10163  1527194623263    11.62   461.43    911.23       23.07  \n",
       "11313  1527626574579    24.81   420.83    816.86       14.26  \n",
       "11263  1527621315471    53.77   399.52    745.28      101.16  \n",
       "\n",
       "[48 rows x 9 columns]"
      ]
     },
     "execution_count": 12,
     "metadata": {},
     "output_type": "execute_result"
    }
   ],
   "source": [
    "NetworkRX.sort_values('MAX_VAL', ascending=False).groupby(\"HOUR_COLLECTED\").head(2)"
   ]
  },
  {
   "cell_type": "markdown",
   "metadata": {
    "deletable": true,
    "editable": true
   },
   "source": [
    "## Understanding distribution of Network Traffic\n",
    "Boxplots let you discard the outliers from your analysis and look at the bulk of the network traffic data. The chart below shows the median, first and third quartile as well as the statistical minimum and maximum values. Outliers are identified with a symbol defined by \"sym=\". The symbol is left blank if you want to ignore outlyer data and focus on the statistically relavent datapoints."
   ]
  },
  {
   "cell_type": "code",
   "execution_count": 21,
   "metadata": {
    "collapsed": false,
    "deletable": true,
    "editable": true
   },
   "outputs": [
    {
     "data": {
      "image/png": "[encoded data removed]",
      "text/plain": [
       "<matplotlib.figure.Figure at 0x7f79ac9c1150>"
      ]
     },
     "metadata": {},
     "output_type": "display_data"
    },
    {
     "data": {
      "image/png": "[encoded data removed]",
      "text/plain": [
       "<matplotlib.figure.Figure at 0x7f79ace45590>"
      ]
     },
     "metadata": {},
     "output_type": "display_data"
    }
   ],
   "source": [
    "NetworkTX.boxplot('MAX_KBS', by='HOUR_COLLECTED', sym='')\n",
    "NetworkRX.boxplot('MAX_KBS', by='HOUR_COLLECTED', sym='')\n",
    "plt.show()"
   ]
  },
  {
   "cell_type": "code",
   "execution_count": null,
   "metadata": {
    "collapsed": true,
    "deletable": true,
    "editable": true
   },
   "outputs": [],
   "source": []
  }
 ],
 "metadata": {
  "kernelspec": {
   "display_name": "Python 2",
   "language": "python",
   "name": "python2"
  },
  "language_info": {
   "codemirror_mode": {
    "name": "ipython",
    "version": 2
   },
   "file_extension": ".py",
   "mimetype": "text/x-python",
   "name": "python",
   "nbconvert_exporter": "python",
   "pygments_lexer": "ipython2",
   "version": "2.7.13"
  }
 },
 "nbformat": 4,
 "nbformat_minor": 2
}
