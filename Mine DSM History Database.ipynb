{
 "cells": [
  {
   "cell_type": "markdown",
   "metadata": {
    "collapsed": true
   },
   "source": [
    "# Mine the Data Server Manager History\n",
    "\n",
    "This notebook demonstrated how to connect to a Data Server Manager repository database, access historical data collected in the repository and analyze it using DataFrames.\n",
    "\n",
    "Data Server Manager stores very useful information in its historical repository database that you can directly access through SQL. (There is more information on accessing this information in the [DSM Wiki](https://www.ibm.com/developerworks/community/wikis/home?lang=en#!/wiki/W377e39cb6e13_42a7_b752_005b67cb913f/page/Repository%20View%20THROUGHPUT_WORKLOAD \"DSM Wiki\").\n",
    "\n",
    "This notebook retrieves data from the Data Server Manager monitoring history and maps out resource usages across your Db2 family enterprise. (You will need connection privileges to the Data Server Manager repository database.) It creates a view in the repository database that provides a list of databases and workloads in each database for each data point collected. The values collected are key resource metrics: CPU seconds, Transactions, and Logical Reads. It then maps out a pivot table for the total resources or throughput per database and workload by week for each database in your Data Server Manager monitoring enterprise.\n",
    "\n",
    "## Db2 Extensions\n",
    "This tutorial relies on a Jupyter notebook extensions, commonly refer to as a \"magic\" commands. The beginning of all of the notebooks begin with the following command which will load the extension and allow the remainder of the notebook to use the %sql magic command.\n",
    "<pre>\n",
    "&#37;run db2.ipynb\n",
    "</pre>\n",
    "The cell below will load the Db2 extension. Note that it will take a few seconds for the extension to load, so you should generally wait until the \"Db2 Extensions Loaded\" message is displayed in your notebook."
   ]
  },
  {
   "cell_type": "code",
   "execution_count": 1,
   "metadata": {
    "collapsed": false
   },
   "outputs": [
    {
     "name": "stdout",
     "output_type": "stream",
     "text": [
      "DB2 Extensions Loaded.\n"
     ]
    },
    {
     "data": {
      "text/html": [
       "<style>\n",
       "  table {margin-left: 0 !important; text-align: left;}\n",
       "</style>"
      ],
      "text/plain": [
       "<IPython.core.display.HTML object>"
      ]
     },
     "metadata": {},
     "output_type": "display_data"
    }
   ],
   "source": [
    "%run db2.ipynb"
   ]
  },
  {
   "cell_type": "code",
   "execution_count": 26,
   "metadata": {
    "collapsed": true
   },
   "outputs": [],
   "source": [
    "# load pandas for dataframe support and numpy for statistical manipulation and matplot for graphing\n",
    "import pandas as pd\n",
    "import numpy as np\n",
    "import matplotlib.pyplot as plt"
   ]
  },
  {
   "cell_type": "markdown",
   "metadata": {},
   "source": [
    "## Connections to Db2\n",
    "\n",
    "Before any SQL commands can be issued, a connection needs to be made to the Db2 database that you will be using. The connection can be done manually (through the use of the CONNECT command), or automatically when the first %sql command is issued.\n",
    "\n",
    "The Db2 magic command tracks whether or not a connection has occured in the past and saves this information between notebooks and sessions. When you start up a notebook and issue a command, the program will reconnect to the database using your credentials from the last session. In the event that you have not connected before, the system will prompt you for all the information it needs to connect. This information includes:\n",
    "\n",
    "- Database name (SAMPLE) \n",
    "- Hostname - localhost (enter an IP address if you need to connect to a remote server) \n",
    "- PORT - 50000 (this is the default but it could be different) \n",
    "- Userid - DB2INST1 \n",
    "- Password - No password is provided so you have to enter a value \n",
    "- Maximum Rows - 10 lines of output are displayed when a result set is returned \n",
    "\n",
    "There will be default values presented in the panels that you can accept, or enter your own values. All of the information will be stored in the directory that the notebooks are stored on. Once you have entered the information, the system will attempt to connect to the database for you and then you can run all of the SQL scripts. More details on the CONNECT syntax will be found in a section below.\n",
    "\n",
    "The next statement will force a CONNECT to occur with the default values. If you have not connected before, it will prompt you for the information."
   ]
  },
  {
   "cell_type": "code",
   "execution_count": 37,
   "metadata": {
    "collapsed": false
   },
   "outputs": [
    {
     "name": "stdout",
     "output_type": "stream",
     "text": [
      "Connection reset.\n"
     ]
    },
    {
     "data": {
      "text/html": [
       "\n",
       "       <h3>Connecting to DB2</h3> \n",
       "       <p>The CONNECT command has the following format:\n",
       "       <pre>\n",
       "       %sql CONNECT TO &lt;database&gt; USER &lt;userid&gt; USING &lt;password|?&gt; HOST &lt;ip address&gt; PORT &lt;port number&gt;\n",
       "       </pre>\n",
       "       If you use a \"?\" for the password field, the system will prompt you for a password. This avoids typing the \n",
       "       password as clear text on the screen. If a connection is not successful, the system will print the error\n",
       "       message associated with the connect request.\n",
       "       <p>\n",
       "       If the connection is successful, the parameters are saved on your system and will be used the next time you\n",
       "       run an SQL statement, or when you issue the %sql CONNECT command with no parameters.\n",
       "       <p>If you issue CONNECT RESET, all of the current values will be deleted and you will need to \n",
       "       issue a new CONNECT statement. \n",
       "       <p>CONNECT without any parameters will cause the program to prompt you for\n",
       "       the values. To use the default values, just hit return for each input line. The default values are: \n",
       "       <table>\n",
       "       <tr>\n",
       "         <th style=\"text-align:left;\">Setting</th>\n",
       "         <th style=\"text-align:left;\">Description</th>\n",
       "       </tr>\n",
       "       <tr>\n",
       "         <td style=\"text-align:left;\">DB2 Driver</td>\n",
       "         <td style=\"text-align:left;\">IBM DB2 ODBC Driver (this requires a manual change)</td>\n",
       "       </tr>\n",
       "       <tr>\n",
       "         <td style=\"text-align:left;\">Database</td><td style=\"text-align:left;\">SAMPLE</td>\n",
       "       </tr>\n",
       "       <tr>\n",
       "         <td style=\"text-align:left;\">Hostname</td>\n",
       "         <td style=\"text-align:left;\">localhost (enter an IP address if you need to connect to a remote server)</td>\n",
       "       </tr>\n",
       "       <tr>\n",
       "         <td style=\"text-align:left;\">PORT</td>\n",
       "         <td style=\"text-align:left;\">50000 (this is the default but it could be different)</td>\n",
       "       </tr>\n",
       "       <tr>         \n",
       "         <td style=\"text-align:left;\">PROTOCOL</td>\n",
       "         <td style=\"text-align:left;\">TCPIP (You could have a local connection in Windows)</td>\n",
       "       </tr>\n",
       "       <tr>         \n",
       "         <td style=\"text-align:left;\">Userid</td>\n",
       "         <td style=\"text-align:left;\">DB2INST1</td> \n",
       "       </tr>\n",
       "       <tr>                  \n",
       "         <td style=\"text-align:left;\">Password</td>\n",
       "         <td style=\"text-align:left;\">No password is provided so you have to enter a value</td>\n",
       "       </tr>\n",
       "       <tr>       \n",
       "         <td style=\"text-align:left;\">Maximum Rows</td>\n",
       "         <td style=\"text-align:left;\">10 lines of output are displayed when a result set is returned</td>\n",
       "       </tr>\n",
       "       </table>\n",
       "       "
      ],
      "text/plain": [
       "<IPython.core.display.HTML object>"
      ]
     },
     "metadata": {},
     "output_type": "display_data"
    },
    {
     "name": "stdout",
     "output_type": "stream",
     "text": [
      "Enter the database name [SAMPLE]: REPO\n",
      "Enter the host name [localhost]: 192.168.0.17\n",
      "Enter the port number [50000]: \n",
      "Enter Userid on the DB2 system [DB2INST1]: \n",
      "Password [password]: ········\n",
      "Maximum rows displayed [10]: \n",
      "Connection successful.\n"
     ]
    }
   ],
   "source": [
    "# create a persistent connection to the DSM Historical Repository Database\n",
    "%sql connect reset\n",
    "%sql connect"
   ]
  },
  {
   "cell_type": "markdown",
   "metadata": {},
   "source": [
    "## Query Key Performance Indicators"
   ]
  },
  {
   "cell_type": "markdown",
   "metadata": {},
   "source": [
    "In the Data Server Manager repository there are views that provide access to the Key Performance Indicators for all the monitored Db2 Family databases. The following query, and view, organize the data into a format that shows all the data points collected for each week."
   ]
  },
  {
   "cell_type": "code",
   "execution_count": 10,
   "metadata": {
    "collapsed": false
   },
   "outputs": [
    {
     "data": {
      "text/html": [
       "<div>\n",
       "<table border=\"1\" class=\"dataframe\">\n",
       "  <thead>\n",
       "    <tr style=\"text-align: right;\">\n",
       "      <th></th>\n",
       "      <th>WEEK_COLLECTED</th>\n",
       "      <th>DBCONN_ID</th>\n",
       "      <th>WORKLOAD_NAME</th>\n",
       "      <th>END_DATE</th>\n",
       "      <th>CPU_SEC</th>\n",
       "      <th>LOGICAL_READS</th>\n",
       "      <th>ACTIVITIES</th>\n",
       "      <th>COMMITS</th>\n",
       "    </tr>\n",
       "  </thead>\n",
       "  <tbody>\n",
       "    <tr>\n",
       "      <th>0</th>\n",
       "      <td>37</td>\n",
       "      <td>REPO</td>\n",
       "      <td>SYSDEFAULTADMW</td>\n",
       "      <td>2017-09-14</td>\n",
       "      <td>0.000000</td>\n",
       "      <td>0</td>\n",
       "      <td>0</td>\n",
       "      <td>0</td>\n",
       "    </tr>\n",
       "    <tr>\n",
       "      <th>1</th>\n",
       "      <td>37</td>\n",
       "      <td>REPO</td>\n",
       "      <td>SYSDEFAULTUSER</td>\n",
       "      <td>2017-09-14</td>\n",
       "      <td>825.690839</td>\n",
       "      <td>2807965</td>\n",
       "      <td>718279</td>\n",
       "      <td>685386</td>\n",
       "    </tr>\n",
       "    <tr>\n",
       "      <th>2</th>\n",
       "      <td>37</td>\n",
       "      <td>SAMPLE</td>\n",
       "      <td>SYSDEFAULTADMW</td>\n",
       "      <td>2017-09-14</td>\n",
       "      <td>0.000000</td>\n",
       "      <td>0</td>\n",
       "      <td>0</td>\n",
       "      <td>0</td>\n",
       "    </tr>\n",
       "    <tr>\n",
       "      <th>3</th>\n",
       "      <td>37</td>\n",
       "      <td>SAMPLE</td>\n",
       "      <td>SYSDEFAULTUSER</td>\n",
       "      <td>2017-09-14</td>\n",
       "      <td>137.730012</td>\n",
       "      <td>517418</td>\n",
       "      <td>28917</td>\n",
       "      <td>28918</td>\n",
       "    </tr>\n",
       "    <tr>\n",
       "      <th>4</th>\n",
       "      <td>37</td>\n",
       "      <td>WEBSTORE</td>\n",
       "      <td>DSM_WORKLOAD</td>\n",
       "      <td>2017-09-14</td>\n",
       "      <td>0.510148</td>\n",
       "      <td>6383</td>\n",
       "      <td>20</td>\n",
       "      <td>20</td>\n",
       "    </tr>\n",
       "    <tr>\n",
       "      <th>5</th>\n",
       "      <td>37</td>\n",
       "      <td>WEBSTORE</td>\n",
       "      <td>SYSDEFAULTADMW</td>\n",
       "      <td>2017-09-14</td>\n",
       "      <td>0.000000</td>\n",
       "      <td>0</td>\n",
       "      <td>0</td>\n",
       "      <td>0</td>\n",
       "    </tr>\n",
       "    <tr>\n",
       "      <th>6</th>\n",
       "      <td>37</td>\n",
       "      <td>WEBSTORE</td>\n",
       "      <td>SYSDEFAULTUSER</td>\n",
       "      <td>2017-09-14</td>\n",
       "      <td>0.000000</td>\n",
       "      <td>0</td>\n",
       "      <td>0</td>\n",
       "      <td>0</td>\n",
       "    </tr>\n",
       "  </tbody>\n",
       "</table>\n",
       "</div>"
      ],
      "text/plain": [
       "   WEEK_COLLECTED       DBCONN_ID   WORKLOAD_NAME    END_DATE     CPU_SEC  \\\n",
       "0              37  REPO            SYSDEFAULTADMW  2017-09-14    0.000000   \n",
       "1              37  REPO            SYSDEFAULTUSER  2017-09-14  825.690839   \n",
       "2              37  SAMPLE          SYSDEFAULTADMW  2017-09-14    0.000000   \n",
       "3              37  SAMPLE          SYSDEFAULTUSER  2017-09-14  137.730012   \n",
       "4              37  WEBSTORE        DSM_WORKLOAD    2017-09-14    0.510148   \n",
       "5              37  WEBSTORE        SYSDEFAULTADMW  2017-09-14    0.000000   \n",
       "6              37  WEBSTORE        SYSDEFAULTUSER  2017-09-14    0.000000   \n",
       "\n",
       "   LOGICAL_READS  ACTIVITIES  COMMITS  \n",
       "0              0           0        0  \n",
       "1        2807965      718279   685386  \n",
       "2              0           0        0  \n",
       "3         517418       28917    28918  \n",
       "4           6383          20       20  \n",
       "5              0           0        0  \n",
       "6              0           0        0  "
      ]
     },
     "execution_count": 10,
     "metadata": {},
     "output_type": "execute_result"
    }
   ],
   "source": [
    "#Query Key Performance Indicators across the Repository Warehouse\n",
    "%%sql\n",
    "select week(collected) as week_collected, \n",
    "    substr(dbconn_id,1,14) as dbconn_id, \n",
    "    substr(workload_name,1,14) as workload_name,  \n",
    "    date(max(collected)) as end_date,  \n",
    "    sum(total_cpu_usec_delta) / 1000000.0 as cpu_sec,    \n",
    "    sum(logical_reads_delta) as logical_reads,    \n",
    "    sum(act_completed_total_delta) as activities,   \n",
    "    sum(total_app_commits_delta) as commits    \n",
    "    from ibm_dsm_views.throughput_workload group by week(collected), dbconn_id, workload_name"
   ]
  },
  {
   "cell_type": "code",
   "execution_count": 38,
   "metadata": {
    "collapsed": false
   },
   "outputs": [
    {
     "name": "stdout",
     "output_type": "stream",
     "text": [
      "Command completed.\n"
     ]
    }
   ],
   "source": [
    "# Run to drop a previous view or skip this step\n",
    "%sql DROP VIEW dbworkloadoverview"
   ]
  },
  {
   "cell_type": "code",
   "execution_count": 39,
   "metadata": {
    "collapsed": false,
    "scrolled": true
   },
   "outputs": [
    {
     "name": "stdout",
     "output_type": "stream",
     "text": [
      "Command completed.\n"
     ]
    }
   ],
   "source": [
    "# Create a view of KPIs by database from the DSM Historical Repository similar to the query above\n",
    "%sql -n CREATE VIEW dbworkloadoverview AS select week(collected) as week_collected, substr(dbconn_id,1,14) as dbconn_id, substr(workload_name,1,14) as workload_name, date(max(collected)) as end_date, sum(total_cpu_usec_delta) / 1000000.0 as cpu_sec, sum(logical_reads_delta) as logical_reads, sum(act_completed_total_delta) as activities, sum(total_app_commits_delta) as commits from ibm_dsm_views.throughput_workload group by week(collected), dbconn_id, workload_name"
   ]
  },
  {
   "cell_type": "code",
   "execution_count": 40,
   "metadata": {
    "collapsed": false
   },
   "outputs": [
    {
     "data": {
      "text/html": [
       "<div>\n",
       "<table border=\"1\" class=\"dataframe\">\n",
       "  <thead>\n",
       "    <tr style=\"text-align: right;\">\n",
       "      <th></th>\n",
       "      <th>WEEK_COLLECTED</th>\n",
       "      <th>DBCONN_ID</th>\n",
       "      <th>WORKLOAD_NAME</th>\n",
       "      <th>END_DATE</th>\n",
       "      <th>CPU_SEC</th>\n",
       "      <th>LOGICAL_READS</th>\n",
       "      <th>ACTIVITIES</th>\n",
       "      <th>COMMITS</th>\n",
       "    </tr>\n",
       "  </thead>\n",
       "  <tbody>\n",
       "    <tr>\n",
       "      <th>0</th>\n",
       "      <td>37</td>\n",
       "      <td>REPO</td>\n",
       "      <td>SYSDEFAULTADMW</td>\n",
       "      <td>2017-09-14</td>\n",
       "      <td>0.000000</td>\n",
       "      <td>0</td>\n",
       "      <td>0</td>\n",
       "      <td>0</td>\n",
       "    </tr>\n",
       "    <tr>\n",
       "      <th>1</th>\n",
       "      <td>37</td>\n",
       "      <td>REPO</td>\n",
       "      <td>SYSDEFAULTUSER</td>\n",
       "      <td>2017-09-14</td>\n",
       "      <td>825.690839</td>\n",
       "      <td>2807965</td>\n",
       "      <td>718279</td>\n",
       "      <td>685386</td>\n",
       "    </tr>\n",
       "    <tr>\n",
       "      <th>2</th>\n",
       "      <td>37</td>\n",
       "      <td>SAMPLE</td>\n",
       "      <td>SYSDEFAULTADMW</td>\n",
       "      <td>2017-09-14</td>\n",
       "      <td>0.000000</td>\n",
       "      <td>0</td>\n",
       "      <td>0</td>\n",
       "      <td>0</td>\n",
       "    </tr>\n",
       "    <tr>\n",
       "      <th>3</th>\n",
       "      <td>37</td>\n",
       "      <td>SAMPLE</td>\n",
       "      <td>SYSDEFAULTUSER</td>\n",
       "      <td>2017-09-14</td>\n",
       "      <td>137.730012</td>\n",
       "      <td>517418</td>\n",
       "      <td>28917</td>\n",
       "      <td>28918</td>\n",
       "    </tr>\n",
       "    <tr>\n",
       "      <th>4</th>\n",
       "      <td>37</td>\n",
       "      <td>WEBSTORE</td>\n",
       "      <td>DSM_WORKLOAD</td>\n",
       "      <td>2017-09-14</td>\n",
       "      <td>0.510148</td>\n",
       "      <td>6383</td>\n",
       "      <td>20</td>\n",
       "      <td>20</td>\n",
       "    </tr>\n",
       "    <tr>\n",
       "      <th>5</th>\n",
       "      <td>37</td>\n",
       "      <td>WEBSTORE</td>\n",
       "      <td>SYSDEFAULTADMW</td>\n",
       "      <td>2017-09-14</td>\n",
       "      <td>0.000000</td>\n",
       "      <td>0</td>\n",
       "      <td>0</td>\n",
       "      <td>0</td>\n",
       "    </tr>\n",
       "    <tr>\n",
       "      <th>6</th>\n",
       "      <td>37</td>\n",
       "      <td>WEBSTORE</td>\n",
       "      <td>SYSDEFAULTUSER</td>\n",
       "      <td>2017-09-14</td>\n",
       "      <td>0.000000</td>\n",
       "      <td>0</td>\n",
       "      <td>0</td>\n",
       "      <td>0</td>\n",
       "    </tr>\n",
       "  </tbody>\n",
       "</table>\n",
       "</div>"
      ],
      "text/plain": [
       "   WEEK_COLLECTED       DBCONN_ID   WORKLOAD_NAME    END_DATE     CPU_SEC  \\\n",
       "0              37  REPO            SYSDEFAULTADMW  2017-09-14    0.000000   \n",
       "1              37  REPO            SYSDEFAULTUSER  2017-09-14  825.690839   \n",
       "2              37  SAMPLE          SYSDEFAULTADMW  2017-09-14    0.000000   \n",
       "3              37  SAMPLE          SYSDEFAULTUSER  2017-09-14  137.730012   \n",
       "4              37  WEBSTORE        DSM_WORKLOAD    2017-09-14    0.510148   \n",
       "5              37  WEBSTORE        SYSDEFAULTADMW  2017-09-14    0.000000   \n",
       "6              37  WEBSTORE        SYSDEFAULTUSER  2017-09-14    0.000000   \n",
       "\n",
       "   LOGICAL_READS  ACTIVITIES  COMMITS  \n",
       "0              0           0        0  \n",
       "1        2807965      718279   685386  \n",
       "2              0           0        0  \n",
       "3         517418       28917    28918  \n",
       "4           6383          20       20  \n",
       "5              0           0        0  \n",
       "6              0           0        0  "
      ]
     },
     "execution_count": 40,
     "metadata": {},
     "output_type": "execute_result"
    }
   ],
   "source": [
    "# run a select statement to pull history data through the new view\n",
    "%sql select * from dbworkloadoverview where END_DATE > '2017-05-01'"
   ]
  },
  {
   "cell_type": "markdown",
   "metadata": {},
   "source": [
    "## Analyze the Repository Data"
   ]
  },
  {
   "cell_type": "markdown",
   "metadata": {},
   "source": [
    "To access the powerful analytic capabilities in a Python notebook, you need to use DataFrames. By passing the results of the Magic command to a variable you immediately create a Data Frame."
   ]
  },
  {
   "cell_type": "code",
   "execution_count": 41,
   "metadata": {
    "collapsed": true
   },
   "outputs": [],
   "source": [
    "# run a select and pass the results to a Data Frame\n",
    "df = %sql -s select * from dbworkloadoverview where END_DATE > '2017-05-01'"
   ]
  },
  {
   "cell_type": "code",
   "execution_count": 42,
   "metadata": {
    "collapsed": false
   },
   "outputs": [
    {
     "data": {
      "text/html": [
       "<div>\n",
       "<table border=\"1\" class=\"dataframe\">\n",
       "  <thead>\n",
       "    <tr style=\"text-align: right;\">\n",
       "      <th></th>\n",
       "      <th>WEEK_COLLECTED</th>\n",
       "      <th>DBCONN_ID</th>\n",
       "      <th>WORKLOAD_NAME</th>\n",
       "      <th>END_DATE</th>\n",
       "      <th>CPU_SEC</th>\n",
       "      <th>LOGICAL_READS</th>\n",
       "      <th>ACTIVITIES</th>\n",
       "      <th>COMMITS</th>\n",
       "    </tr>\n",
       "  </thead>\n",
       "  <tbody>\n",
       "    <tr>\n",
       "      <th>0</th>\n",
       "      <td>37</td>\n",
       "      <td>REPO</td>\n",
       "      <td>SYSDEFAULTADMW</td>\n",
       "      <td>2017-09-14</td>\n",
       "      <td>0.000000</td>\n",
       "      <td>0</td>\n",
       "      <td>0</td>\n",
       "      <td>0</td>\n",
       "    </tr>\n",
       "    <tr>\n",
       "      <th>1</th>\n",
       "      <td>37</td>\n",
       "      <td>REPO</td>\n",
       "      <td>SYSDEFAULTUSER</td>\n",
       "      <td>2017-09-14</td>\n",
       "      <td>825.690839</td>\n",
       "      <td>2807965</td>\n",
       "      <td>718279</td>\n",
       "      <td>685386</td>\n",
       "    </tr>\n",
       "    <tr>\n",
       "      <th>2</th>\n",
       "      <td>37</td>\n",
       "      <td>SAMPLE</td>\n",
       "      <td>SYSDEFAULTADMW</td>\n",
       "      <td>2017-09-14</td>\n",
       "      <td>0.000000</td>\n",
       "      <td>0</td>\n",
       "      <td>0</td>\n",
       "      <td>0</td>\n",
       "    </tr>\n",
       "    <tr>\n",
       "      <th>3</th>\n",
       "      <td>37</td>\n",
       "      <td>SAMPLE</td>\n",
       "      <td>SYSDEFAULTUSER</td>\n",
       "      <td>2017-09-14</td>\n",
       "      <td>137.730012</td>\n",
       "      <td>517418</td>\n",
       "      <td>28917</td>\n",
       "      <td>28918</td>\n",
       "    </tr>\n",
       "    <tr>\n",
       "      <th>4</th>\n",
       "      <td>37</td>\n",
       "      <td>WEBSTORE</td>\n",
       "      <td>DSM_WORKLOAD</td>\n",
       "      <td>2017-09-14</td>\n",
       "      <td>0.510148</td>\n",
       "      <td>6383</td>\n",
       "      <td>20</td>\n",
       "      <td>20</td>\n",
       "    </tr>\n",
       "  </tbody>\n",
       "</table>\n",
       "</div>"
      ],
      "text/plain": [
       "   WEEK_COLLECTED       DBCONN_ID   WORKLOAD_NAME    END_DATE     CPU_SEC  \\\n",
       "0              37  REPO            SYSDEFAULTADMW  2017-09-14    0.000000   \n",
       "1              37  REPO            SYSDEFAULTUSER  2017-09-14  825.690839   \n",
       "2              37  SAMPLE          SYSDEFAULTADMW  2017-09-14    0.000000   \n",
       "3              37  SAMPLE          SYSDEFAULTUSER  2017-09-14  137.730012   \n",
       "4              37  WEBSTORE        DSM_WORKLOAD    2017-09-14    0.510148   \n",
       "\n",
       "   LOGICAL_READS  ACTIVITIES  COMMITS  \n",
       "0              0           0        0  \n",
       "1        2807965      718279   685386  \n",
       "2              0           0        0  \n",
       "3         517418       28917    28918  \n",
       "4           6383          20       20  "
      ]
     },
     "execution_count": 42,
     "metadata": {},
     "output_type": "execute_result"
    }
   ],
   "source": [
    "# revuew the first few rows of the dataframe\n",
    "df.head()"
   ]
  },
  {
   "cell_type": "code",
   "execution_count": 43,
   "metadata": {
    "collapsed": false
   },
   "outputs": [
    {
     "data": {
      "text/html": [
       "<div>\n",
       "<table border=\"1\" class=\"dataframe\">\n",
       "  <thead>\n",
       "    <tr style=\"text-align: right;\">\n",
       "      <th></th>\n",
       "      <th></th>\n",
       "      <th></th>\n",
       "      <th>ACTIVITIES</th>\n",
       "      <th>COMMITS</th>\n",
       "      <th>CPU_SEC</th>\n",
       "      <th>LOGICAL_READS</th>\n",
       "    </tr>\n",
       "    <tr>\n",
       "      <th>DBCONN_ID</th>\n",
       "      <th>WORKLOAD_NAME</th>\n",
       "      <th>WEEK_COLLECTED</th>\n",
       "      <th></th>\n",
       "      <th></th>\n",
       "      <th></th>\n",
       "      <th></th>\n",
       "    </tr>\n",
       "  </thead>\n",
       "  <tbody>\n",
       "    <tr>\n",
       "      <th rowspan=\"2\" valign=\"top\">REPO</th>\n",
       "      <th>SYSDEFAULTADMW</th>\n",
       "      <th>37</th>\n",
       "      <td>0</td>\n",
       "      <td>0</td>\n",
       "      <td>0.000000</td>\n",
       "      <td>0</td>\n",
       "    </tr>\n",
       "    <tr>\n",
       "      <th>SYSDEFAULTUSER</th>\n",
       "      <th>37</th>\n",
       "      <td>718279</td>\n",
       "      <td>685386</td>\n",
       "      <td>825.690839</td>\n",
       "      <td>2807965</td>\n",
       "    </tr>\n",
       "    <tr>\n",
       "      <th rowspan=\"2\" valign=\"top\">SAMPLE</th>\n",
       "      <th>SYSDEFAULTADMW</th>\n",
       "      <th>37</th>\n",
       "      <td>0</td>\n",
       "      <td>0</td>\n",
       "      <td>0.000000</td>\n",
       "      <td>0</td>\n",
       "    </tr>\n",
       "    <tr>\n",
       "      <th>SYSDEFAULTUSER</th>\n",
       "      <th>37</th>\n",
       "      <td>28917</td>\n",
       "      <td>28918</td>\n",
       "      <td>137.730012</td>\n",
       "      <td>517418</td>\n",
       "    </tr>\n",
       "    <tr>\n",
       "      <th rowspan=\"3\" valign=\"top\">WEBSTORE</th>\n",
       "      <th>DSM_WORKLOAD</th>\n",
       "      <th>37</th>\n",
       "      <td>20</td>\n",
       "      <td>20</td>\n",
       "      <td>0.510148</td>\n",
       "      <td>6383</td>\n",
       "    </tr>\n",
       "    <tr>\n",
       "      <th>SYSDEFAULTADMW</th>\n",
       "      <th>37</th>\n",
       "      <td>0</td>\n",
       "      <td>0</td>\n",
       "      <td>0.000000</td>\n",
       "      <td>0</td>\n",
       "    </tr>\n",
       "    <tr>\n",
       "      <th>SYSDEFAULTUSER</th>\n",
       "      <th>37</th>\n",
       "      <td>0</td>\n",
       "      <td>0</td>\n",
       "      <td>0.000000</td>\n",
       "      <td>0</td>\n",
       "    </tr>\n",
       "  </tbody>\n",
       "</table>\n",
       "</div>"
      ],
      "text/plain": [
       "                                              ACTIVITIES  COMMITS     CPU_SEC  \\\n",
       "DBCONN_ID      WORKLOAD_NAME  WEEK_COLLECTED                                    \n",
       "REPO           SYSDEFAULTADMW 37                       0        0    0.000000   \n",
       "               SYSDEFAULTUSER 37                  718279   685386  825.690839   \n",
       "SAMPLE         SYSDEFAULTADMW 37                       0        0    0.000000   \n",
       "               SYSDEFAULTUSER 37                   28917    28918  137.730012   \n",
       "WEBSTORE       DSM_WORKLOAD   37                      20       20    0.510148   \n",
       "               SYSDEFAULTADMW 37                       0        0    0.000000   \n",
       "               SYSDEFAULTUSER 37                       0        0    0.000000   \n",
       "\n",
       "                                              LOGICAL_READS  \n",
       "DBCONN_ID      WORKLOAD_NAME  WEEK_COLLECTED                 \n",
       "REPO           SYSDEFAULTADMW 37                          0  \n",
       "               SYSDEFAULTUSER 37                    2807965  \n",
       "SAMPLE         SYSDEFAULTADMW 37                          0  \n",
       "               SYSDEFAULTUSER 37                     517418  \n",
       "WEBSTORE       DSM_WORKLOAD   37                       6383  \n",
       "               SYSDEFAULTADMW 37                          0  \n",
       "               SYSDEFAULTUSER 37                          0  "
      ]
     },
     "execution_count": 43,
     "metadata": {},
     "output_type": "execute_result"
    }
   ],
   "source": [
    "# create a pivot of the data frame showing the sums of key resources used by database and workload for each week\n",
    "pd.pivot_table(df,index=[\"DBCONN_ID\",\"WORKLOAD_NAME\",\"WEEK_COLLECTED\"])"
   ]
  },
  {
   "cell_type": "code",
   "execution_count": 44,
   "metadata": {
    "collapsed": false
   },
   "outputs": [
    {
     "data": {
      "text/plain": [
       "DBCONN_ID\n",
       "REPO              718279\n",
       "SAMPLE             28917\n",
       "WEBSTORE              20\n",
       "Name: ACTIVITIES, dtype: int64"
      ]
     },
     "execution_count": 44,
     "metadata": {},
     "output_type": "execute_result"
    }
   ],
   "source": [
    "# create a group by object of the total transactions per database\n",
    "byDatabase = df.groupby('DBCONN_ID')\n",
    "sum_transactions = byDatabase['ACTIVITIES'].aggregate(np.sum)\n",
    "sum_transactions.sort_values(inplace=True, ascending=False)\n",
    "sum_transactions"
   ]
  },
  {
   "cell_type": "code",
   "execution_count": 45,
   "metadata": {
    "collapsed": false
   },
   "outputs": [
    {
     "data": {
      "image/png": "[encoded data removed]",
      "text/plain": [
       "<matplotlib.figure.Figure at 0x7fd27166efd0>"
      ]
     },
     "metadata": {},
     "output_type": "display_data"
    }
   ],
   "source": [
    "# graph the transactions per database\n",
    "sum_transactions.plot(x='DBCONN_ID',y='ACTIVITIES',kind='bar', title =\"Databases\", figsize=(15, 10), legend=True, fontsize=12)\n",
    "plt.show()"
   ]
  },
  {
   "cell_type": "code",
   "execution_count": null,
   "metadata": {
    "collapsed": true
   },
   "outputs": [],
   "source": []
  }
 ],
 "metadata": {
  "kernelspec": {
   "display_name": "Python 2",
   "language": "python",
   "name": "python2"
  },
  "language_info": {
   "codemirror_mode": {
    "name": "ipython",
    "version": 2
   },
   "file_extension": ".py",
   "mimetype": "text/x-python",
   "name": "python",
   "nbconvert_exporter": "python",
   "pygments_lexer": "ipython2",
   "version": "2.7.13"
  }
 },
 "nbformat": 4,
 "nbformat_minor": 2
}
